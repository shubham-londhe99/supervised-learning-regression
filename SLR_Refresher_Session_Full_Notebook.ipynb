{
 "cells": [
  {
   "cell_type": "code",
   "execution_count": 159,
   "metadata": {},
   "outputs": [],
   "source": [
    "import pandas as pd\n",
    "import numpy as np"
   ]
  },
  {
   "cell_type": "code",
   "execution_count": 160,
   "metadata": {},
   "outputs": [],
   "source": [
    "data=pd.DataFrame({'Weight':[45,65,53,49,45],'Height':[140,165,146,150,142],'Age':[15,17,16,17,18]})"
   ]
  },
  {
   "cell_type": "code",
   "execution_count": 161,
   "metadata": {},
   "outputs": [
    {
     "data": {
      "text/html": [
       "<div>\n",
       "<style scoped>\n",
       "    .dataframe tbody tr th:only-of-type {\n",
       "        vertical-align: middle;\n",
       "    }\n",
       "\n",
       "    .dataframe tbody tr th {\n",
       "        vertical-align: top;\n",
       "    }\n",
       "\n",
       "    .dataframe thead th {\n",
       "        text-align: right;\n",
       "    }\n",
       "</style>\n",
       "<table border=\"1\" class=\"dataframe\">\n",
       "  <thead>\n",
       "    <tr style=\"text-align: right;\">\n",
       "      <th></th>\n",
       "      <th>Weight</th>\n",
       "      <th>Height</th>\n",
       "      <th>Age</th>\n",
       "    </tr>\n",
       "  </thead>\n",
       "  <tbody>\n",
       "    <tr>\n",
       "      <th>0</th>\n",
       "      <td>45</td>\n",
       "      <td>140</td>\n",
       "      <td>15</td>\n",
       "    </tr>\n",
       "    <tr>\n",
       "      <th>1</th>\n",
       "      <td>65</td>\n",
       "      <td>165</td>\n",
       "      <td>17</td>\n",
       "    </tr>\n",
       "    <tr>\n",
       "      <th>2</th>\n",
       "      <td>53</td>\n",
       "      <td>146</td>\n",
       "      <td>16</td>\n",
       "    </tr>\n",
       "    <tr>\n",
       "      <th>3</th>\n",
       "      <td>49</td>\n",
       "      <td>150</td>\n",
       "      <td>17</td>\n",
       "    </tr>\n",
       "    <tr>\n",
       "      <th>4</th>\n",
       "      <td>45</td>\n",
       "      <td>142</td>\n",
       "      <td>18</td>\n",
       "    </tr>\n",
       "  </tbody>\n",
       "</table>\n",
       "</div>"
      ],
      "text/plain": [
       "   Weight  Height  Age\n",
       "0      45     140   15\n",
       "1      65     165   17\n",
       "2      53     146   16\n",
       "3      49     150   17\n",
       "4      45     142   18"
      ]
     },
     "execution_count": 161,
     "metadata": {},
     "output_type": "execute_result"
    }
   ],
   "source": [
    "data"
   ]
  },
  {
   "cell_type": "code",
   "execution_count": 162,
   "metadata": {},
   "outputs": [],
   "source": [
    "# Estimation - find b0, b1\n",
    "# OLS and Gradient \n",
    "# b1 =  sum((x-xbar)*(y-ybar))/ sum((x-xbar)^2)\n",
    "#b0 = ybar - b1*xbar"
   ]
  },
  {
   "cell_type": "code",
   "execution_count": 163,
   "metadata": {},
   "outputs": [],
   "source": [
    "num= np.sum((data['Weight'] - data['Weight'].mean()) * (data['Height'] - data['Height'].mean()))"
   ]
  },
  {
   "cell_type": "code",
   "execution_count": 164,
   "metadata": {},
   "outputs": [],
   "source": [
    "den=np.sum((data['Weight']-data['Weight'].mean())**2)"
   ]
  },
  {
   "cell_type": "code",
   "execution_count": 165,
   "metadata": {},
   "outputs": [
    {
     "data": {
      "text/plain": [
       "1.1366279069767442"
      ]
     },
     "execution_count": 165,
     "metadata": {},
     "output_type": "execute_result"
    }
   ],
   "source": [
    "b1=num/den\n",
    "b1"
   ]
  },
  {
   "cell_type": "code",
   "execution_count": 166,
   "metadata": {},
   "outputs": [
    {
     "data": {
      "text/plain": [
       "90.17732558139534"
      ]
     },
     "execution_count": 166,
     "metadata": {},
     "output_type": "execute_result"
    }
   ],
   "source": [
    "b0 = data['Height'].mean()-b1*data['Weight'].mean() # ybar-b1*xbar\n",
    "b0"
   ]
  },
  {
   "cell_type": "code",
   "execution_count": 167,
   "metadata": {},
   "outputs": [],
   "source": [
    "# Height(cms) = 1.13 *Weight(kg) + 90.17"
   ]
  },
  {
   "cell_type": "code",
   "execution_count": 168,
   "metadata": {},
   "outputs": [],
   "source": [
    "ypred=b1*data['Weight']+b0"
   ]
  },
  {
   "cell_type": "code",
   "execution_count": 169,
   "metadata": {},
   "outputs": [
    {
     "data": {
      "text/plain": [
       "0    141.325581\n",
       "1    164.058140\n",
       "2    150.418605\n",
       "3    145.872093\n",
       "4    141.325581\n",
       "Name: Weight, dtype: float64"
      ]
     },
     "execution_count": 169,
     "metadata": {},
     "output_type": "execute_result"
    }
   ],
   "source": [
    "ypred"
   ]
  },
  {
   "cell_type": "code",
   "execution_count": 170,
   "metadata": {},
   "outputs": [
    {
     "data": {
      "text/plain": [
       "0    140\n",
       "1    165\n",
       "2    146\n",
       "3    150\n",
       "4    142\n",
       "Name: Height, dtype: int64"
      ]
     },
     "execution_count": 170,
     "metadata": {},
     "output_type": "execute_result"
    }
   ],
   "source": [
    "\n",
    "data['Height']"
   ]
  },
  {
   "cell_type": "code",
   "execution_count": 171,
   "metadata": {},
   "outputs": [
    {
     "data": {
      "text/plain": [
       "0   -1.325581\n",
       "1    0.941860\n",
       "2   -4.418605\n",
       "3    4.127907\n",
       "4    0.674419\n",
       "dtype: float64"
      ]
     },
     "execution_count": 171,
     "metadata": {},
     "output_type": "execute_result"
    }
   ],
   "source": [
    "resid=data['Height']-ypred\n",
    "resid"
   ]
  },
  {
   "cell_type": "code",
   "execution_count": 172,
   "metadata": {},
   "outputs": [
    {
     "data": {
      "text/plain": [
       "[<matplotlib.lines.Line2D at 0x25251316e88>]"
      ]
     },
     "execution_count": 172,
     "metadata": {},
     "output_type": "execute_result"
    },
    {
     "data": {
      "image/png": "[encoded data removed]",
      "text/plain": [
       "<Figure size 432x288 with 1 Axes>"
      ]
     },
     "metadata": {
      "needs_background": "light"
     },
     "output_type": "display_data"
    }
   ],
   "source": [
    "from matplotlib import pyplot as plt\n",
    "plt.plot(data['Weight'],data['Height'],'*', markersize=8)\n",
    "plt.plot(data['Weight'],b1*data['Weight']+b0)"
   ]
  },
  {
   "cell_type": "code",
   "execution_count": 173,
   "metadata": {},
   "outputs": [
    {
     "data": {
      "text/plain": [
       "0   -1.325581\n",
       "1    0.941860\n",
       "2   -4.418605\n",
       "3    4.127907\n",
       "4    0.674419\n",
       "dtype: float64"
      ]
     },
     "execution_count": 173,
     "metadata": {},
     "output_type": "execute_result"
    }
   ],
   "source": [
    "resid"
   ]
  },
  {
   "cell_type": "code",
   "execution_count": 175,
   "metadata": {},
   "outputs": [],
   "source": [
    "se=resid**2\n",
    "sse=np.sum(se)\n",
    "mse=np.mean(se)\n",
    "rmse=np.sqrt(mse)\n"
   ]
  },
  {
   "cell_type": "code",
   "execution_count": 176,
   "metadata": {},
   "outputs": [
    {
     "name": "stdout",
     "output_type": "stream",
     "text": [
      "39.662790697674566\n",
      "7.932558139534914\n",
      "2.8164797424329033\n"
     ]
    }
   ],
   "source": [
    "#print(se)\n",
    "print(sse)\n",
    "print(mse)\n",
    "print(rmse)"
   ]
  },
  {
   "cell_type": "code",
   "execution_count": 177,
   "metadata": {},
   "outputs": [],
   "source": [
    "# ypred=b1*weight +b2*age + b0"
   ]
  },
  {
   "cell_type": "code",
   "execution_count": 178,
   "metadata": {},
   "outputs": [],
   "source": [
    "# Var(mean) - var(line) / var(mean)"
   ]
  },
  {
   "cell_type": "code",
   "execution_count": 179,
   "metadata": {},
   "outputs": [],
   "source": [
    "mean_model= np.var(data['Height']-data['Height'].mean())"
   ]
  },
  {
   "cell_type": "code",
   "execution_count": 180,
   "metadata": {},
   "outputs": [],
   "source": [
    "reg_model=np.var(data['Height'] - (b1*data['Weight']+b0))"
   ]
  },
  {
   "cell_type": "code",
   "execution_count": 181,
   "metadata": {},
   "outputs": [
    {
     "data": {
      "text/plain": [
       "0.8996386875058843"
      ]
     },
     "execution_count": 181,
     "metadata": {},
     "output_type": "execute_result"
    }
   ],
   "source": [
    "r2=(mean_model-reg_model)/mean_model\n",
    "r2"
   ]
  },
  {
   "cell_type": "code",
   "execution_count": 182,
   "metadata": {},
   "outputs": [
    {
     "data": {
      "text/html": [
       "<div>\n",
       "<style scoped>\n",
       "    .dataframe tbody tr th:only-of-type {\n",
       "        vertical-align: middle;\n",
       "    }\n",
       "\n",
       "    .dataframe tbody tr th {\n",
       "        vertical-align: top;\n",
       "    }\n",
       "\n",
       "    .dataframe thead th {\n",
       "        text-align: right;\n",
       "    }\n",
       "</style>\n",
       "<table border=\"1\" class=\"dataframe\">\n",
       "  <thead>\n",
       "    <tr style=\"text-align: right;\">\n",
       "      <th></th>\n",
       "      <th>Weight</th>\n",
       "      <th>Height</th>\n",
       "      <th>Age</th>\n",
       "    </tr>\n",
       "  </thead>\n",
       "  <tbody>\n",
       "    <tr>\n",
       "      <th>Weight</th>\n",
       "      <td>1.000000</td>\n",
       "      <td>0.948493</td>\n",
       "      <td>0.126886</td>\n",
       "    </tr>\n",
       "    <tr>\n",
       "      <th>Height</th>\n",
       "      <td>0.948493</td>\n",
       "      <td>1.000000</td>\n",
       "      <td>0.291182</td>\n",
       "    </tr>\n",
       "    <tr>\n",
       "      <th>Age</th>\n",
       "      <td>0.126886</td>\n",
       "      <td>0.291182</td>\n",
       "      <td>1.000000</td>\n",
       "    </tr>\n",
       "  </tbody>\n",
       "</table>\n",
       "</div>"
      ],
      "text/plain": [
       "          Weight    Height       Age\n",
       "Weight  1.000000  0.948493  0.126886\n",
       "Height  0.948493  1.000000  0.291182\n",
       "Age     0.126886  0.291182  1.000000"
      ]
     },
     "execution_count": 182,
     "metadata": {},
     "output_type": "execute_result"
    }
   ],
   "source": [
    "data.corr()"
   ]
  },
  {
   "cell_type": "code",
   "execution_count": 183,
   "metadata": {},
   "outputs": [
    {
     "data": {
      "text/plain": [
       "0.899638971049"
      ]
     },
     "execution_count": 183,
     "metadata": {},
     "output_type": "execute_result"
    }
   ],
   "source": [
    "R=0.948493\n",
    "R**2"
   ]
  },
  {
   "cell_type": "code",
   "execution_count": 184,
   "metadata": {},
   "outputs": [],
   "source": [
    "from sklearn.linear_model import LinearRegression"
   ]
  },
  {
   "cell_type": "code",
   "execution_count": 185,
   "metadata": {},
   "outputs": [
    {
     "data": {
      "text/plain": [
       "LinearRegression(copy_X=True, fit_intercept=True, n_jobs=None, normalize=False)"
      ]
     },
     "execution_count": 185,
     "metadata": {},
     "output_type": "execute_result"
    }
   ],
   "source": [
    "mod=LinearRegression()\n",
    "mod.fit(data['Weight'].values.reshape(-1,1),data['Height'])"
   ]
  },
  {
   "cell_type": "code",
   "execution_count": 186,
   "metadata": {},
   "outputs": [
    {
     "data": {
      "text/plain": [
       "array([141.3255814 , 164.05813953, 150.41860465, 145.87209302,\n",
       "       141.3255814 ])"
      ]
     },
     "execution_count": 186,
     "metadata": {},
     "output_type": "execute_result"
    }
   ],
   "source": [
    "ypred1=mod.predict(data['Weight'].values.reshape(-1,1))\n",
    "ypred1"
   ]
  },
  {
   "cell_type": "code",
   "execution_count": 187,
   "metadata": {},
   "outputs": [
    {
     "data": {
      "text/plain": [
       "0.899638687505884"
      ]
     },
     "execution_count": 187,
     "metadata": {},
     "output_type": "execute_result"
    }
   ],
   "source": [
    "from sklearn.metrics import r2_score, mean_squared_error\n",
    "r2_score(data['Height'],ypred1)"
   ]
  },
  {
   "cell_type": "code",
   "execution_count": 188,
   "metadata": {},
   "outputs": [
    {
     "data": {
      "text/plain": [
       "2.816479742432905"
      ]
     },
     "execution_count": 188,
     "metadata": {},
     "output_type": "execute_result"
    }
   ],
   "source": [
    "np.sqrt(mean_squared_error(data['Height'],ypred1))"
   ]
  },
  {
   "cell_type": "code",
   "execution_count": 189,
   "metadata": {},
   "outputs": [
    {
     "data": {
      "text/plain": [
       "array([1.13662791])"
      ]
     },
     "execution_count": 189,
     "metadata": {},
     "output_type": "execute_result"
    }
   ],
   "source": [
    "mod.coef_"
   ]
  },
  {
   "cell_type": "code",
   "execution_count": 190,
   "metadata": {},
   "outputs": [
    {
     "data": {
      "text/plain": [
       "90.17732558139537"
      ]
     },
     "execution_count": 190,
     "metadata": {},
     "output_type": "execute_result"
    }
   ],
   "source": [
    "mod.intercept_"
   ]
  },
  {
   "cell_type": "code",
   "execution_count": 1,
   "metadata": {},
   "outputs": [],
   "source": [
    "import pandas as pd\n",
    "data_ref=pd.read_excel('Refrigerators.xlsx')"
   ]
  },
  {
   "cell_type": "code",
   "execution_count": 192,
   "metadata": {},
   "outputs": [
    {
     "data": {
      "text/html": [
       "<div>\n",
       "<style scoped>\n",
       "    .dataframe tbody tr th:only-of-type {\n",
       "        vertical-align: middle;\n",
       "    }\n",
       "\n",
       "    .dataframe tbody tr th {\n",
       "        vertical-align: top;\n",
       "    }\n",
       "\n",
       "    .dataframe thead th {\n",
       "        text-align: right;\n",
       "    }\n",
       "</style>\n",
       "<table border=\"1\" class=\"dataframe\">\n",
       "  <thead>\n",
       "    <tr style=\"text-align: right;\">\n",
       "      <th></th>\n",
       "      <th>Price</th>\n",
       "      <th>Opcost</th>\n",
       "      <th>CoolSize</th>\n",
       "      <th>FreezeSize</th>\n",
       "      <th>Shelves</th>\n",
       "      <th>Features</th>\n",
       "    </tr>\n",
       "  </thead>\n",
       "  <tbody>\n",
       "    <tr>\n",
       "      <th>0</th>\n",
       "      <td>595</td>\n",
       "      <td>75</td>\n",
       "      <td>7.1</td>\n",
       "      <td>5.7</td>\n",
       "      <td>3</td>\n",
       "      <td>2</td>\n",
       "    </tr>\n",
       "    <tr>\n",
       "      <th>1</th>\n",
       "      <td>685</td>\n",
       "      <td>75</td>\n",
       "      <td>7.2</td>\n",
       "      <td>5.7</td>\n",
       "      <td>3</td>\n",
       "      <td>1</td>\n",
       "    </tr>\n",
       "    <tr>\n",
       "      <th>2</th>\n",
       "      <td>535</td>\n",
       "      <td>67</td>\n",
       "      <td>8.8</td>\n",
       "      <td>4.5</td>\n",
       "      <td>1</td>\n",
       "      <td>6</td>\n",
       "    </tr>\n",
       "    <tr>\n",
       "      <th>3</th>\n",
       "      <td>600</td>\n",
       "      <td>67</td>\n",
       "      <td>8.7</td>\n",
       "      <td>4.5</td>\n",
       "      <td>3</td>\n",
       "      <td>5</td>\n",
       "    </tr>\n",
       "    <tr>\n",
       "      <th>4</th>\n",
       "      <td>605</td>\n",
       "      <td>67</td>\n",
       "      <td>8.8</td>\n",
       "      <td>4.5</td>\n",
       "      <td>3</td>\n",
       "      <td>3</td>\n",
       "    </tr>\n",
       "  </tbody>\n",
       "</table>\n",
       "</div>"
      ],
      "text/plain": [
       "   Price  Opcost  CoolSize  FreezeSize  Shelves  Features\n",
       "0    595      75       7.1         5.7        3         2\n",
       "1    685      75       7.2         5.7        3         1\n",
       "2    535      67       8.8         4.5        1         6\n",
       "3    600      67       8.7         4.5        3         5\n",
       "4    605      67       8.8         4.5        3         3"
      ]
     },
     "execution_count": 192,
     "metadata": {},
     "output_type": "execute_result"
    }
   ],
   "source": [
    "data_ref.head()"
   ]
  },
  {
   "cell_type": "code",
   "execution_count": 193,
   "metadata": {},
   "outputs": [],
   "source": [
    "# Model -  Predicting price of refrigerator using all other inputs"
   ]
  },
  {
   "cell_type": "code",
   "execution_count": 3,
   "metadata": {},
   "outputs": [],
   "source": [
    "import statsmodels.api as sm"
   ]
  },
  {
   "cell_type": "code",
   "execution_count": 2,
   "metadata": {},
   "outputs": [],
   "source": [
    "inp=data_ref.iloc[:,1:]\n",
    "out=data_ref['Price']"
   ]
  },
  {
   "cell_type": "code",
   "execution_count": 5,
   "metadata": {},
   "outputs": [
    {
     "data": {
      "text/html": [
       "<table class=\"simpletable\">\n",
       "<caption>OLS Regression Results</caption>\n",
       "<tr>\n",
       "  <th>Dep. Variable:</th>          <td>Price</td>      <th>  R-squared:         </th> <td>   0.838</td>\n",
       "</tr>\n",
       "<tr>\n",
       "  <th>Model:</th>                   <td>OLS</td>       <th>  Adj. R-squared:    </th> <td>   0.812</td>\n",
       "</tr>\n",
       "<tr>\n",
       "  <th>Method:</th>             <td>Least Squares</td>  <th>  F-statistic:       </th> <td>   32.05</td>\n",
       "</tr>\n",
       "<tr>\n",
       "  <th>Date:</th>             <td>Mon, 01 Jun 2020</td> <th>  Prob (F-statistic):</th> <td>2.27e-11</td>\n",
       "</tr>\n",
       "<tr>\n",
       "  <th>Time:</th>                 <td>11:33:32</td>     <th>  Log-Likelihood:    </th> <td> -201.12</td>\n",
       "</tr>\n",
       "<tr>\n",
       "  <th>No. Observations:</th>      <td>    37</td>      <th>  AIC:               </th> <td>   414.2</td>\n",
       "</tr>\n",
       "<tr>\n",
       "  <th>Df Residuals:</th>          <td>    31</td>      <th>  BIC:               </th> <td>   423.9</td>\n",
       "</tr>\n",
       "<tr>\n",
       "  <th>Df Model:</th>              <td>     5</td>      <th>                     </th>     <td> </td>   \n",
       "</tr>\n",
       "<tr>\n",
       "  <th>Covariance Type:</th>      <td>nonrobust</td>    <th>                     </th>     <td> </td>   \n",
       "</tr>\n",
       "</table>\n",
       "<table class=\"simpletable\">\n",
       "<tr>\n",
       "       <td></td>         <th>coef</th>     <th>std err</th>      <th>t</th>      <th>P>|t|</th>  <th>[0.025</th>    <th>0.975]</th>  \n",
       "</tr>\n",
       "<tr>\n",
       "  <th>const</th>      <td> -797.8082</td> <td>  271.409</td> <td>   -2.940</td> <td> 0.006</td> <td>-1351.351</td> <td> -244.265</td>\n",
       "</tr>\n",
       "<tr>\n",
       "  <th>Opcost</th>     <td>   -6.9578</td> <td>    2.275</td> <td>   -3.058</td> <td> 0.005</td> <td>  -11.598</td> <td>   -2.317</td>\n",
       "</tr>\n",
       "<tr>\n",
       "  <th>CoolSize</th>   <td>   76.4971</td> <td>   19.442</td> <td>    3.935</td> <td> 0.000</td> <td>   36.846</td> <td>  116.148</td>\n",
       "</tr>\n",
       "<tr>\n",
       "  <th>FreezeSize</th> <td>  213.8785</td> <td>   35.761</td> <td>    5.981</td> <td> 0.000</td> <td>  140.943</td> <td>  286.814</td>\n",
       "</tr>\n",
       "<tr>\n",
       "  <th>Shelves</th>    <td>   37.9373</td> <td>    9.886</td> <td>    3.837</td> <td> 0.001</td> <td>   17.774</td> <td>   58.100</td>\n",
       "</tr>\n",
       "<tr>\n",
       "  <th>Features</th>   <td>   23.7636</td> <td>    4.512</td> <td>    5.267</td> <td> 0.000</td> <td>   14.562</td> <td>   32.965</td>\n",
       "</tr>\n",
       "</table>\n",
       "<table class=\"simpletable\">\n",
       "<tr>\n",
       "  <th>Omnibus:</th>       <td> 0.974</td> <th>  Durbin-Watson:     </th> <td>   2.321</td>\n",
       "</tr>\n",
       "<tr>\n",
       "  <th>Prob(Omnibus):</th> <td> 0.614</td> <th>  Jarque-Bera (JB):  </th> <td>   1.005</td>\n",
       "</tr>\n",
       "<tr>\n",
       "  <th>Skew:</th>          <td> 0.289</td> <th>  Prob(JB):          </th> <td>   0.605</td>\n",
       "</tr>\n",
       "<tr>\n",
       "  <th>Kurtosis:</th>      <td> 2.435</td> <th>  Cond. No.          </th> <td>1.97e+03</td>\n",
       "</tr>\n",
       "</table><br/><br/>Warnings:<br/>[1] Standard Errors assume that the covariance matrix of the errors is correctly specified.<br/>[2] The condition number is large, 1.97e+03. This might indicate that there are<br/>strong multicollinearity or other numerical problems."
      ],
      "text/plain": [
       "<class 'statsmodels.iolib.summary.Summary'>\n",
       "\"\"\"\n",
       "                            OLS Regression Results                            \n",
       "==============================================================================\n",
       "Dep. Variable:                  Price   R-squared:                       0.838\n",
       "Model:                            OLS   Adj. R-squared:                  0.812\n",
       "Method:                 Least Squares   F-statistic:                     32.05\n",
       "Date:                Mon, 01 Jun 2020   Prob (F-statistic):           2.27e-11\n",
       "Time:                        11:33:32   Log-Likelihood:                -201.12\n",
       "No. Observations:                  37   AIC:                             414.2\n",
       "Df Residuals:                      31   BIC:                             423.9\n",
       "Df Model:                           5                                         \n",
       "Covariance Type:            nonrobust                                         \n",
       "==============================================================================\n",
       "                 coef    std err          t      P>|t|      [0.025      0.975]\n",
       "------------------------------------------------------------------------------\n",
       "const       -797.8082    271.409     -2.940      0.006   -1351.351    -244.265\n",
       "Opcost        -6.9578      2.275     -3.058      0.005     -11.598      -2.317\n",
       "CoolSize      76.4971     19.442      3.935      0.000      36.846     116.148\n",
       "FreezeSize   213.8785     35.761      5.981      0.000     140.943     286.814\n",
       "Shelves       37.9373      9.886      3.837      0.001      17.774      58.100\n",
       "Features      23.7636      4.512      5.267      0.000      14.562      32.965\n",
       "==============================================================================\n",
       "Omnibus:                        0.974   Durbin-Watson:                   2.321\n",
       "Prob(Omnibus):                  0.614   Jarque-Bera (JB):                1.005\n",
       "Skew:                           0.289   Prob(JB):                        0.605\n",
       "Kurtosis:                       2.435   Cond. No.                     1.97e+03\n",
       "==============================================================================\n",
       "\n",
       "Warnings:\n",
       "[1] Standard Errors assume that the covariance matrix of the errors is correctly specified.\n",
       "[2] The condition number is large, 1.97e+03. This might indicate that there are\n",
       "strong multicollinearity or other numerical problems.\n",
       "\"\"\""
      ]
     },
     "execution_count": 5,
     "metadata": {},
     "output_type": "execute_result"
    }
   ],
   "source": [
    "inp_c=sm.add_constant(inp)\n",
    "ols1=sm.OLS(out,inp_c)\n",
    "mod1=ols1.fit()\n",
    "mod1.summary()"
   ]
  },
  {
   "cell_type": "code",
   "execution_count": 197,
   "metadata": {},
   "outputs": [],
   "source": [
    " #Estimated value of beta- true value of beta  / standard error"
   ]
  },
  {
   "cell_type": "code",
   "execution_count": 198,
   "metadata": {},
   "outputs": [],
   "source": [
    "# Linearity\n",
    "#y=2*x\n",
    "#ypred=b0+b1x1+b2x2+b3x3+ ......\n",
    "ypred = mod1.predict(inp_c)"
   ]
  },
  {
   "cell_type": "code",
   "execution_count": 199,
   "metadata": {},
   "outputs": [],
   "source": [
    "from matplotlib import pyplot as plt\n",
    "import seaborn as sb"
   ]
  },
  {
   "cell_type": "code",
   "execution_count": 200,
   "metadata": {},
   "outputs": [
    {
     "data": {
      "text/plain": [
       "<matplotlib.axes._subplots.AxesSubplot at 0x252511b2948>"
      ]
     },
     "execution_count": 200,
     "metadata": {},
     "output_type": "execute_result"
    },
    {
     "data": {
      "image/png": "[encoded data removed]",
      "text/plain": [
       "<Figure size 432x288 with 1 Axes>"
      ]
     },
     "metadata": {
      "needs_background": "light"
     },
     "output_type": "display_data"
    }
   ],
   "source": [
    "sb.regplot(out,ypred)"
   ]
  },
  {
   "cell_type": "code",
   "execution_count": 201,
   "metadata": {},
   "outputs": [],
   "source": [
    "from statsmodels.stats.diagnostic import linear_rainbow"
   ]
  },
  {
   "cell_type": "code",
   "execution_count": 202,
   "metadata": {},
   "outputs": [
    {
     "data": {
      "text/plain": [
       "(1.229003687336261, 0.36464475875614083)"
      ]
     },
     "execution_count": 202,
     "metadata": {},
     "output_type": "execute_result"
    }
   ],
   "source": [
    "linear_rainbow(res=mod1,frac=0.5)"
   ]
  },
  {
   "cell_type": "code",
   "execution_count": 203,
   "metadata": {},
   "outputs": [
    {
     "data": {
      "text/plain": [
       "<matplotlib.axes._subplots.AxesSubplot at 0x25251240b48>"
      ]
     },
     "execution_count": 203,
     "metadata": {},
     "output_type": "execute_result"
    },
    {
     "data": {
      "image/png": "[encoded data removed]",
      "text/plain": [
       "<Figure size 432x288 with 1 Axes>"
      ]
     },
     "metadata": {
      "needs_background": "light"
     },
     "output_type": "display_data"
    }
   ],
   "source": [
    "# Normality\n",
    "sb.distplot(mod1.resid)"
   ]
  },
  {
   "cell_type": "code",
   "execution_count": 204,
   "metadata": {},
   "outputs": [
    {
     "data": {
      "text/plain": [
       "(0.9613720774650574, 0.22325065732002258)"
      ]
     },
     "execution_count": 204,
     "metadata": {},
     "output_type": "execute_result"
    }
   ],
   "source": [
    "import scipy.stats as stats\n",
    "stats.shapiro(mod1.resid)"
   ]
  },
  {
   "cell_type": "code",
   "execution_count": 205,
   "metadata": {},
   "outputs": [
    {
     "data": {
      "image/png": "[encoded data removed]",
      "text/plain": [
       "<Figure size 432x288 with 1 Axes>"
      ]
     },
     "metadata": {
      "needs_background": "light"
     },
     "output_type": "display_data"
    }
   ],
   "source": [
    "stats.probplot(mod1.resid,fit='norm',plot=plt)\n",
    "plt.show()"
   ]
  },
  {
   "cell_type": "code",
   "execution_count": 206,
   "metadata": {},
   "outputs": [
    {
     "data": {
      "text/plain": [
       "<matplotlib.axes._subplots.AxesSubplot at 0x25251204388>"
      ]
     },
     "execution_count": 206,
     "metadata": {},
     "output_type": "execute_result"
    },
    {
     "data": {
      "image/png": "[encoded data removed]",
      "text/plain": [
       "<Figure size 432x288 with 1 Axes>"
      ]
     },
     "metadata": {
      "needs_background": "light"
     },
     "output_type": "display_data"
    }
   ],
   "source": [
    "# Homoscadesticity\n",
    "sb.residplot(out,mod1.resid)"
   ]
  },
  {
   "cell_type": "code",
   "execution_count": 207,
   "metadata": {},
   "outputs": [
    {
     "data": {
      "text/plain": [
       "(1.9918809170245613, 0.11609967581061173)"
      ]
     },
     "execution_count": 207,
     "metadata": {},
     "output_type": "execute_result"
    }
   ],
   "source": [
    "from statsmodels.stats.api import het_goldfeldquandt\n",
    "het_goldfeldquandt(mod1.resid,mod1.model.exog)[:2]"
   ]
  },
  {
   "cell_type": "code",
   "execution_count": 208,
   "metadata": {},
   "outputs": [
    {
     "data": {
      "text/plain": [
       "<matplotlib.axes._subplots.AxesSubplot at 0x25251453448>"
      ]
     },
     "execution_count": 208,
     "metadata": {},
     "output_type": "execute_result"
    },
    {
     "data": {
      "image/png": "[encoded data removed]",
      "text/plain": [
       "<Figure size 432x288 with 2 Axes>"
      ]
     },
     "metadata": {
      "needs_background": "light"
     },
     "output_type": "display_data"
    }
   ],
   "source": [
    "# Multicollinearity\n",
    "sb.heatmap(inp.corr(),annot=True)"
   ]
  },
  {
   "cell_type": "code",
   "execution_count": 209,
   "metadata": {},
   "outputs": [],
   "source": [
    "# f1 - (f2,f3,f4,f5) ---- Rsquare =1   ---- vif= 1/(1-Rsqaure) --- vif = inf\n",
    "                          # Rsquare =0  ----- vif = 1/(1-Rsquare) --- vif =1\n",
    "    \n",
    "    #f1 - vif= 17   p = 0.005\n",
    "    #f2 - vif= 14   p = 0.02"
   ]
  },
  {
   "cell_type": "code",
   "execution_count": 210,
   "metadata": {},
   "outputs": [
    {
     "data": {
      "text/html": [
       "<div>\n",
       "<style scoped>\n",
       "    .dataframe tbody tr th:only-of-type {\n",
       "        vertical-align: middle;\n",
       "    }\n",
       "\n",
       "    .dataframe tbody tr th {\n",
       "        vertical-align: top;\n",
       "    }\n",
       "\n",
       "    .dataframe thead th {\n",
       "        text-align: right;\n",
       "    }\n",
       "</style>\n",
       "<table border=\"1\" class=\"dataframe\">\n",
       "  <thead>\n",
       "    <tr style=\"text-align: right;\">\n",
       "      <th></th>\n",
       "      <th>VIF</th>\n",
       "      <th>Feature</th>\n",
       "    </tr>\n",
       "  </thead>\n",
       "  <tbody>\n",
       "    <tr>\n",
       "      <th>0</th>\n",
       "      <td>259.407845</td>\n",
       "      <td>Opcost</td>\n",
       "    </tr>\n",
       "    <tr>\n",
       "      <th>2</th>\n",
       "      <td>179.916043</td>\n",
       "      <td>FreezeSize</td>\n",
       "    </tr>\n",
       "    <tr>\n",
       "      <th>1</th>\n",
       "      <td>24.261754</td>\n",
       "      <td>CoolSize</td>\n",
       "    </tr>\n",
       "    <tr>\n",
       "      <th>3</th>\n",
       "      <td>6.478725</td>\n",
       "      <td>Shelves</td>\n",
       "    </tr>\n",
       "    <tr>\n",
       "      <th>4</th>\n",
       "      <td>3.680741</td>\n",
       "      <td>Features</td>\n",
       "    </tr>\n",
       "  </tbody>\n",
       "</table>\n",
       "</div>"
      ],
      "text/plain": [
       "          VIF     Feature\n",
       "0  259.407845      Opcost\n",
       "2  179.916043  FreezeSize\n",
       "1   24.261754    CoolSize\n",
       "3    6.478725     Shelves\n",
       "4    3.680741    Features"
      ]
     },
     "execution_count": 210,
     "metadata": {},
     "output_type": "execute_result"
    }
   ],
   "source": [
    "from statsmodels.stats.outliers_influence import variance_inflation_factor\n",
    "vif=pd.DataFrame()\n",
    "vif['VIF']=[variance_inflation_factor(inp.values,i) for i in range(inp.shape[1])]\n",
    "vif['Feature']=inp.columns\n",
    "vif.sort_values('VIF',ascending=False)"
   ]
  },
  {
   "cell_type": "code",
   "execution_count": 211,
   "metadata": {},
   "outputs": [],
   "source": [
    "inp1=inp.drop('Opcost',1)"
   ]
  },
  {
   "cell_type": "code",
   "execution_count": 212,
   "metadata": {},
   "outputs": [
    {
     "data": {
      "text/html": [
       "<div>\n",
       "<style scoped>\n",
       "    .dataframe tbody tr th:only-of-type {\n",
       "        vertical-align: middle;\n",
       "    }\n",
       "\n",
       "    .dataframe tbody tr th {\n",
       "        vertical-align: top;\n",
       "    }\n",
       "\n",
       "    .dataframe thead th {\n",
       "        text-align: right;\n",
       "    }\n",
       "</style>\n",
       "<table border=\"1\" class=\"dataframe\">\n",
       "  <thead>\n",
       "    <tr style=\"text-align: right;\">\n",
       "      <th></th>\n",
       "      <th>VIF</th>\n",
       "      <th>Feature</th>\n",
       "    </tr>\n",
       "  </thead>\n",
       "  <tbody>\n",
       "    <tr>\n",
       "      <th>1</th>\n",
       "      <td>19.534441</td>\n",
       "      <td>FreezeSize</td>\n",
       "    </tr>\n",
       "    <tr>\n",
       "      <th>0</th>\n",
       "      <td>11.050641</td>\n",
       "      <td>CoolSize</td>\n",
       "    </tr>\n",
       "    <tr>\n",
       "      <th>2</th>\n",
       "      <td>6.474278</td>\n",
       "      <td>Shelves</td>\n",
       "    </tr>\n",
       "    <tr>\n",
       "      <th>3</th>\n",
       "      <td>3.649582</td>\n",
       "      <td>Features</td>\n",
       "    </tr>\n",
       "  </tbody>\n",
       "</table>\n",
       "</div>"
      ],
      "text/plain": [
       "         VIF     Feature\n",
       "1  19.534441  FreezeSize\n",
       "0  11.050641    CoolSize\n",
       "2   6.474278     Shelves\n",
       "3   3.649582    Features"
      ]
     },
     "execution_count": 212,
     "metadata": {},
     "output_type": "execute_result"
    }
   ],
   "source": [
    "from statsmodels.stats.outliers_influence import variance_inflation_factor\n",
    "vif=pd.DataFrame()\n",
    "vif['VIF']=[variance_inflation_factor(inp1.values,i) for i in range(inp1.shape[1])]\n",
    "vif['Feature']=inp1.columns\n",
    "vif.sort_values('VIF',ascending=False)"
   ]
  },
  {
   "cell_type": "code",
   "execution_count": 213,
   "metadata": {},
   "outputs": [
    {
     "data": {
      "text/html": [
       "<table class=\"simpletable\">\n",
       "<caption>OLS Regression Results</caption>\n",
       "<tr>\n",
       "  <th>Dep. Variable:</th>          <td>Price</td>      <th>  R-squared:         </th> <td>   0.789</td>\n",
       "</tr>\n",
       "<tr>\n",
       "  <th>Model:</th>                   <td>OLS</td>       <th>  Adj. R-squared:    </th> <td>   0.763</td>\n",
       "</tr>\n",
       "<tr>\n",
       "  <th>Method:</th>             <td>Least Squares</td>  <th>  F-statistic:       </th> <td>   29.92</td>\n",
       "</tr>\n",
       "<tr>\n",
       "  <th>Date:</th>             <td>Fri, 22 May 2020</td> <th>  Prob (F-statistic):</th> <td>2.10e-10</td>\n",
       "</tr>\n",
       "<tr>\n",
       "  <th>Time:</th>                 <td>16:42:16</td>     <th>  Log-Likelihood:    </th> <td> -205.99</td>\n",
       "</tr>\n",
       "<tr>\n",
       "  <th>No. Observations:</th>      <td>    37</td>      <th>  AIC:               </th> <td>   422.0</td>\n",
       "</tr>\n",
       "<tr>\n",
       "  <th>Df Residuals:</th>          <td>    32</td>      <th>  BIC:               </th> <td>   430.0</td>\n",
       "</tr>\n",
       "<tr>\n",
       "  <th>Df Model:</th>              <td>     4</td>      <th>                     </th>     <td> </td>   \n",
       "</tr>\n",
       "<tr>\n",
       "  <th>Covariance Type:</th>      <td>nonrobust</td>    <th>                     </th>     <td> </td>   \n",
       "</tr>\n",
       "</table>\n",
       "<table class=\"simpletable\">\n",
       "<tr>\n",
       "       <td></td>         <th>coef</th>     <th>std err</th>      <th>t</th>      <th>P>|t|</th>  <th>[0.025</th>    <th>0.975]</th>  \n",
       "</tr>\n",
       "<tr>\n",
       "  <th>const</th>      <td> -698.8915</td> <td>  302.602</td> <td>   -2.310</td> <td> 0.028</td> <td>-1315.272</td> <td>  -82.511</td>\n",
       "</tr>\n",
       "<tr>\n",
       "  <th>CoolSize</th>   <td>   56.4978</td> <td>   20.559</td> <td>    2.748</td> <td> 0.010</td> <td>   14.620</td> <td>   98.375</td>\n",
       "</tr>\n",
       "<tr>\n",
       "  <th>FreezeSize</th> <td>  131.8951</td> <td>   26.576</td> <td>    4.963</td> <td> 0.000</td> <td>   77.761</td> <td>  186.029</td>\n",
       "</tr>\n",
       "<tr>\n",
       "  <th>Shelves</th>    <td>   35.9230</td> <td>   11.077</td> <td>    3.243</td> <td> 0.003</td> <td>   13.360</td> <td>   58.486</td>\n",
       "</tr>\n",
       "<tr>\n",
       "  <th>Features</th>   <td>   25.1590</td> <td>    5.040</td> <td>    4.992</td> <td> 0.000</td> <td>   14.892</td> <td>   35.426</td>\n",
       "</tr>\n",
       "</table>\n",
       "<table class=\"simpletable\">\n",
       "<tr>\n",
       "  <th>Omnibus:</th>       <td> 1.106</td> <th>  Durbin-Watson:     </th> <td>   2.556</td>\n",
       "</tr>\n",
       "<tr>\n",
       "  <th>Prob(Omnibus):</th> <td> 0.575</td> <th>  Jarque-Bera (JB):  </th> <td>   0.595</td>\n",
       "</tr>\n",
       "<tr>\n",
       "  <th>Skew:</th>          <td> 0.307</td> <th>  Prob(JB):          </th> <td>   0.743</td>\n",
       "</tr>\n",
       "<tr>\n",
       "  <th>Kurtosis:</th>      <td> 3.090</td> <th>  Cond. No.          </th> <td>    291.</td>\n",
       "</tr>\n",
       "</table><br/><br/>Warnings:<br/>[1] Standard Errors assume that the covariance matrix of the errors is correctly specified."
      ],
      "text/plain": [
       "<class 'statsmodels.iolib.summary.Summary'>\n",
       "\"\"\"\n",
       "                            OLS Regression Results                            \n",
       "==============================================================================\n",
       "Dep. Variable:                  Price   R-squared:                       0.789\n",
       "Model:                            OLS   Adj. R-squared:                  0.763\n",
       "Method:                 Least Squares   F-statistic:                     29.92\n",
       "Date:                Fri, 22 May 2020   Prob (F-statistic):           2.10e-10\n",
       "Time:                        16:42:16   Log-Likelihood:                -205.99\n",
       "No. Observations:                  37   AIC:                             422.0\n",
       "Df Residuals:                      32   BIC:                             430.0\n",
       "Df Model:                           4                                         \n",
       "Covariance Type:            nonrobust                                         \n",
       "==============================================================================\n",
       "                 coef    std err          t      P>|t|      [0.025      0.975]\n",
       "------------------------------------------------------------------------------\n",
       "const       -698.8915    302.602     -2.310      0.028   -1315.272     -82.511\n",
       "CoolSize      56.4978     20.559      2.748      0.010      14.620      98.375\n",
       "FreezeSize   131.8951     26.576      4.963      0.000      77.761     186.029\n",
       "Shelves       35.9230     11.077      3.243      0.003      13.360      58.486\n",
       "Features      25.1590      5.040      4.992      0.000      14.892      35.426\n",
       "==============================================================================\n",
       "Omnibus:                        1.106   Durbin-Watson:                   2.556\n",
       "Prob(Omnibus):                  0.575   Jarque-Bera (JB):                0.595\n",
       "Skew:                           0.307   Prob(JB):                        0.743\n",
       "Kurtosis:                       3.090   Cond. No.                         291.\n",
       "==============================================================================\n",
       "\n",
       "Warnings:\n",
       "[1] Standard Errors assume that the covariance matrix of the errors is correctly specified.\n",
       "\"\"\""
      ]
     },
     "execution_count": 213,
     "metadata": {},
     "output_type": "execute_result"
    }
   ],
   "source": [
    "inp_c=sm.add_constant(inp1)\n",
    "ols2=sm.OLS(out,inp_c)\n",
    "mod2=ols2.fit()\n",
    "mod2.summary()"
   ]
  },
  {
   "cell_type": "code",
   "execution_count": 214,
   "metadata": {},
   "outputs": [],
   "source": [
    "inp2=inp1.drop('FreezeSize',1)"
   ]
  },
  {
   "cell_type": "code",
   "execution_count": 215,
   "metadata": {},
   "outputs": [
    {
     "data": {
      "text/html": [
       "<div>\n",
       "<style scoped>\n",
       "    .dataframe tbody tr th:only-of-type {\n",
       "        vertical-align: middle;\n",
       "    }\n",
       "\n",
       "    .dataframe tbody tr th {\n",
       "        vertical-align: top;\n",
       "    }\n",
       "\n",
       "    .dataframe thead th {\n",
       "        text-align: right;\n",
       "    }\n",
       "</style>\n",
       "<table border=\"1\" class=\"dataframe\">\n",
       "  <thead>\n",
       "    <tr style=\"text-align: right;\">\n",
       "      <th></th>\n",
       "      <th>VIF</th>\n",
       "      <th>Feature</th>\n",
       "    </tr>\n",
       "  </thead>\n",
       "  <tbody>\n",
       "    <tr>\n",
       "      <th>1</th>\n",
       "      <td>5.148103</td>\n",
       "      <td>Shelves</td>\n",
       "    </tr>\n",
       "    <tr>\n",
       "      <th>0</th>\n",
       "      <td>4.951003</td>\n",
       "      <td>CoolSize</td>\n",
       "    </tr>\n",
       "    <tr>\n",
       "      <th>2</th>\n",
       "      <td>2.785663</td>\n",
       "      <td>Features</td>\n",
       "    </tr>\n",
       "  </tbody>\n",
       "</table>\n",
       "</div>"
      ],
      "text/plain": [
       "        VIF   Feature\n",
       "1  5.148103   Shelves\n",
       "0  4.951003  CoolSize\n",
       "2  2.785663  Features"
      ]
     },
     "execution_count": 215,
     "metadata": {},
     "output_type": "execute_result"
    }
   ],
   "source": [
    "from statsmodels.stats.outliers_influence import variance_inflation_factor\n",
    "vif=pd.DataFrame()\n",
    "vif['VIF']=[variance_inflation_factor(inp2.values,i) for i in range(inp2.shape[1])]\n",
    "vif['Feature']=inp2.columns\n",
    "vif.sort_values('VIF',ascending=False)"
   ]
  },
  {
   "cell_type": "code",
   "execution_count": 216,
   "metadata": {},
   "outputs": [
    {
     "data": {
      "text/html": [
       "<table class=\"simpletable\">\n",
       "<caption>OLS Regression Results</caption>\n",
       "<tr>\n",
       "  <th>Dep. Variable:</th>          <td>Price</td>      <th>  R-squared:         </th> <td>   0.627</td>\n",
       "</tr>\n",
       "<tr>\n",
       "  <th>Model:</th>                   <td>OLS</td>       <th>  Adj. R-squared:    </th> <td>   0.593</td>\n",
       "</tr>\n",
       "<tr>\n",
       "  <th>Method:</th>             <td>Least Squares</td>  <th>  F-statistic:       </th> <td>   18.46</td>\n",
       "</tr>\n",
       "<tr>\n",
       "  <th>Date:</th>             <td>Fri, 22 May 2020</td> <th>  Prob (F-statistic):</th> <td>3.29e-07</td>\n",
       "</tr>\n",
       "<tr>\n",
       "  <th>Time:</th>                 <td>16:42:17</td>     <th>  Log-Likelihood:    </th> <td> -216.55</td>\n",
       "</tr>\n",
       "<tr>\n",
       "  <th>No. Observations:</th>      <td>    37</td>      <th>  AIC:               </th> <td>   441.1</td>\n",
       "</tr>\n",
       "<tr>\n",
       "  <th>Df Residuals:</th>          <td>    33</td>      <th>  BIC:               </th> <td>   447.6</td>\n",
       "</tr>\n",
       "<tr>\n",
       "  <th>Df Model:</th>              <td>     3</td>      <th>                     </th>     <td> </td>   \n",
       "</tr>\n",
       "<tr>\n",
       "  <th>Covariance Type:</th>      <td>nonrobust</td>    <th>                     </th>     <td> </td>   \n",
       "</tr>\n",
       "</table>\n",
       "<table class=\"simpletable\">\n",
       "<tr>\n",
       "      <td></td>        <th>coef</th>     <th>std err</th>      <th>t</th>      <th>P>|t|</th>  <th>[0.025</th>    <th>0.975]</th>  \n",
       "</tr>\n",
       "<tr>\n",
       "  <th>const</th>    <td>  705.8607</td> <td>  140.176</td> <td>    5.036</td> <td> 0.000</td> <td>  420.670</td> <td>  991.052</td>\n",
       "</tr>\n",
       "<tr>\n",
       "  <th>CoolSize</th> <td>  -30.8041</td> <td>   13.940</td> <td>   -2.210</td> <td> 0.034</td> <td>  -59.166</td> <td>   -2.443</td>\n",
       "</tr>\n",
       "<tr>\n",
       "  <th>Shelves</th>  <td>   26.1497</td> <td>   14.279</td> <td>    1.831</td> <td> 0.076</td> <td>   -2.902</td> <td>   55.201</td>\n",
       "</tr>\n",
       "<tr>\n",
       "  <th>Features</th> <td>   31.1773</td> <td>    6.409</td> <td>    4.865</td> <td> 0.000</td> <td>   18.138</td> <td>   44.216</td>\n",
       "</tr>\n",
       "</table>\n",
       "<table class=\"simpletable\">\n",
       "<tr>\n",
       "  <th>Omnibus:</th>       <td> 3.637</td> <th>  Durbin-Watson:     </th> <td>   1.786</td>\n",
       "</tr>\n",
       "<tr>\n",
       "  <th>Prob(Omnibus):</th> <td> 0.162</td> <th>  Jarque-Bera (JB):  </th> <td>   3.080</td>\n",
       "</tr>\n",
       "<tr>\n",
       "  <th>Skew:</th>          <td> 0.705</td> <th>  Prob(JB):          </th> <td>   0.214</td>\n",
       "</tr>\n",
       "<tr>\n",
       "  <th>Kurtosis:</th>      <td> 2.896</td> <th>  Cond. No.          </th> <td>    90.2</td>\n",
       "</tr>\n",
       "</table><br/><br/>Warnings:<br/>[1] Standard Errors assume that the covariance matrix of the errors is correctly specified."
      ],
      "text/plain": [
       "<class 'statsmodels.iolib.summary.Summary'>\n",
       "\"\"\"\n",
       "                            OLS Regression Results                            \n",
       "==============================================================================\n",
       "Dep. Variable:                  Price   R-squared:                       0.627\n",
       "Model:                            OLS   Adj. R-squared:                  0.593\n",
       "Method:                 Least Squares   F-statistic:                     18.46\n",
       "Date:                Fri, 22 May 2020   Prob (F-statistic):           3.29e-07\n",
       "Time:                        16:42:17   Log-Likelihood:                -216.55\n",
       "No. Observations:                  37   AIC:                             441.1\n",
       "Df Residuals:                      33   BIC:                             447.6\n",
       "Df Model:                           3                                         \n",
       "Covariance Type:            nonrobust                                         \n",
       "==============================================================================\n",
       "                 coef    std err          t      P>|t|      [0.025      0.975]\n",
       "------------------------------------------------------------------------------\n",
       "const        705.8607    140.176      5.036      0.000     420.670     991.052\n",
       "CoolSize     -30.8041     13.940     -2.210      0.034     -59.166      -2.443\n",
       "Shelves       26.1497     14.279      1.831      0.076      -2.902      55.201\n",
       "Features      31.1773      6.409      4.865      0.000      18.138      44.216\n",
       "==============================================================================\n",
       "Omnibus:                        3.637   Durbin-Watson:                   1.786\n",
       "Prob(Omnibus):                  0.162   Jarque-Bera (JB):                3.080\n",
       "Skew:                           0.705   Prob(JB):                        0.214\n",
       "Kurtosis:                       2.896   Cond. No.                         90.2\n",
       "==============================================================================\n",
       "\n",
       "Warnings:\n",
       "[1] Standard Errors assume that the covariance matrix of the errors is correctly specified.\n",
       "\"\"\""
      ]
     },
     "execution_count": 216,
     "metadata": {},
     "output_type": "execute_result"
    }
   ],
   "source": [
    "inp_c=sm.add_constant(inp2)\n",
    "ols3=sm.OLS(out,inp_c)\n",
    "mod3=ols3.fit()\n",
    "mod3.summary()"
   ]
  },
  {
   "cell_type": "code",
   "execution_count": 3,
   "metadata": {},
   "outputs": [
    {
     "data": {
      "text/html": [
       "<div>\n",
       "<style scoped>\n",
       "    .dataframe tbody tr th:only-of-type {\n",
       "        vertical-align: middle;\n",
       "    }\n",
       "\n",
       "    .dataframe tbody tr th {\n",
       "        vertical-align: top;\n",
       "    }\n",
       "\n",
       "    .dataframe thead th {\n",
       "        text-align: right;\n",
       "    }\n",
       "</style>\n",
       "<table border=\"1\" class=\"dataframe\">\n",
       "  <thead>\n",
       "    <tr style=\"text-align: right;\">\n",
       "      <th></th>\n",
       "      <th>Opcost</th>\n",
       "      <th>CoolSize</th>\n",
       "      <th>FreezeSize</th>\n",
       "      <th>Shelves</th>\n",
       "      <th>Features</th>\n",
       "    </tr>\n",
       "  </thead>\n",
       "  <tbody>\n",
       "    <tr>\n",
       "      <th>0</th>\n",
       "      <td>75</td>\n",
       "      <td>7.1</td>\n",
       "      <td>5.7</td>\n",
       "      <td>3</td>\n",
       "      <td>2</td>\n",
       "    </tr>\n",
       "    <tr>\n",
       "      <th>1</th>\n",
       "      <td>75</td>\n",
       "      <td>7.2</td>\n",
       "      <td>5.7</td>\n",
       "      <td>3</td>\n",
       "      <td>1</td>\n",
       "    </tr>\n",
       "    <tr>\n",
       "      <th>2</th>\n",
       "      <td>67</td>\n",
       "      <td>8.8</td>\n",
       "      <td>4.5</td>\n",
       "      <td>1</td>\n",
       "      <td>6</td>\n",
       "    </tr>\n",
       "    <tr>\n",
       "      <th>3</th>\n",
       "      <td>67</td>\n",
       "      <td>8.7</td>\n",
       "      <td>4.5</td>\n",
       "      <td>3</td>\n",
       "      <td>5</td>\n",
       "    </tr>\n",
       "    <tr>\n",
       "      <th>4</th>\n",
       "      <td>67</td>\n",
       "      <td>8.8</td>\n",
       "      <td>4.5</td>\n",
       "      <td>3</td>\n",
       "      <td>3</td>\n",
       "    </tr>\n",
       "  </tbody>\n",
       "</table>\n",
       "</div>"
      ],
      "text/plain": [
       "   Opcost  CoolSize  FreezeSize  Shelves  Features\n",
       "0      75       7.1         5.7        3         2\n",
       "1      75       7.2         5.7        3         1\n",
       "2      67       8.8         4.5        1         6\n",
       "3      67       8.7         4.5        3         5\n",
       "4      67       8.8         4.5        3         3"
      ]
     },
     "execution_count": 3,
     "metadata": {},
     "output_type": "execute_result"
    }
   ],
   "source": [
    "inp.head()"
   ]
  },
  {
   "cell_type": "code",
   "execution_count": 4,
   "metadata": {},
   "outputs": [
    {
     "data": {
      "text/html": [
       "<div>\n",
       "<style scoped>\n",
       "    .dataframe tbody tr th:only-of-type {\n",
       "        vertical-align: middle;\n",
       "    }\n",
       "\n",
       "    .dataframe tbody tr th {\n",
       "        vertical-align: top;\n",
       "    }\n",
       "\n",
       "    .dataframe thead th {\n",
       "        text-align: right;\n",
       "    }\n",
       "</style>\n",
       "<table border=\"1\" class=\"dataframe\">\n",
       "  <thead>\n",
       "    <tr style=\"text-align: right;\">\n",
       "      <th></th>\n",
       "      <th>x0</th>\n",
       "      <th>x1</th>\n",
       "      <th>x2</th>\n",
       "      <th>x3</th>\n",
       "      <th>x4</th>\n",
       "      <th>x0 x1</th>\n",
       "      <th>x0 x2</th>\n",
       "      <th>x0 x3</th>\n",
       "      <th>x0 x4</th>\n",
       "      <th>x1 x2</th>\n",
       "      <th>x1 x3</th>\n",
       "      <th>x1 x4</th>\n",
       "      <th>x2 x3</th>\n",
       "      <th>x2 x4</th>\n",
       "      <th>x3 x4</th>\n",
       "    </tr>\n",
       "  </thead>\n",
       "  <tbody>\n",
       "    <tr>\n",
       "      <th>0</th>\n",
       "      <td>75.0</td>\n",
       "      <td>7.1</td>\n",
       "      <td>5.7</td>\n",
       "      <td>3.0</td>\n",
       "      <td>2.0</td>\n",
       "      <td>532.5</td>\n",
       "      <td>427.5</td>\n",
       "      <td>225.0</td>\n",
       "      <td>150.0</td>\n",
       "      <td>40.47</td>\n",
       "      <td>21.3</td>\n",
       "      <td>14.2</td>\n",
       "      <td>17.1</td>\n",
       "      <td>11.4</td>\n",
       "      <td>6.0</td>\n",
       "    </tr>\n",
       "    <tr>\n",
       "      <th>1</th>\n",
       "      <td>75.0</td>\n",
       "      <td>7.2</td>\n",
       "      <td>5.7</td>\n",
       "      <td>3.0</td>\n",
       "      <td>1.0</td>\n",
       "      <td>540.0</td>\n",
       "      <td>427.5</td>\n",
       "      <td>225.0</td>\n",
       "      <td>75.0</td>\n",
       "      <td>41.04</td>\n",
       "      <td>21.6</td>\n",
       "      <td>7.2</td>\n",
       "      <td>17.1</td>\n",
       "      <td>5.7</td>\n",
       "      <td>3.0</td>\n",
       "    </tr>\n",
       "    <tr>\n",
       "      <th>2</th>\n",
       "      <td>67.0</td>\n",
       "      <td>8.8</td>\n",
       "      <td>4.5</td>\n",
       "      <td>1.0</td>\n",
       "      <td>6.0</td>\n",
       "      <td>589.6</td>\n",
       "      <td>301.5</td>\n",
       "      <td>67.0</td>\n",
       "      <td>402.0</td>\n",
       "      <td>39.60</td>\n",
       "      <td>8.8</td>\n",
       "      <td>52.8</td>\n",
       "      <td>4.5</td>\n",
       "      <td>27.0</td>\n",
       "      <td>6.0</td>\n",
       "    </tr>\n",
       "    <tr>\n",
       "      <th>3</th>\n",
       "      <td>67.0</td>\n",
       "      <td>8.7</td>\n",
       "      <td>4.5</td>\n",
       "      <td>3.0</td>\n",
       "      <td>5.0</td>\n",
       "      <td>582.9</td>\n",
       "      <td>301.5</td>\n",
       "      <td>201.0</td>\n",
       "      <td>335.0</td>\n",
       "      <td>39.15</td>\n",
       "      <td>26.1</td>\n",
       "      <td>43.5</td>\n",
       "      <td>13.5</td>\n",
       "      <td>22.5</td>\n",
       "      <td>15.0</td>\n",
       "    </tr>\n",
       "    <tr>\n",
       "      <th>4</th>\n",
       "      <td>67.0</td>\n",
       "      <td>8.8</td>\n",
       "      <td>4.5</td>\n",
       "      <td>3.0</td>\n",
       "      <td>3.0</td>\n",
       "      <td>589.6</td>\n",
       "      <td>301.5</td>\n",
       "      <td>201.0</td>\n",
       "      <td>201.0</td>\n",
       "      <td>39.60</td>\n",
       "      <td>26.4</td>\n",
       "      <td>26.4</td>\n",
       "      <td>13.5</td>\n",
       "      <td>13.5</td>\n",
       "      <td>9.0</td>\n",
       "    </tr>\n",
       "  </tbody>\n",
       "</table>\n",
       "</div>"
      ],
      "text/plain": [
       "     x0   x1   x2   x3   x4  x0 x1  x0 x2  x0 x3  x0 x4  x1 x2  x1 x3  x1 x4  \\\n",
       "0  75.0  7.1  5.7  3.0  2.0  532.5  427.5  225.0  150.0  40.47   21.3   14.2   \n",
       "1  75.0  7.2  5.7  3.0  1.0  540.0  427.5  225.0   75.0  41.04   21.6    7.2   \n",
       "2  67.0  8.8  4.5  1.0  6.0  589.6  301.5   67.0  402.0  39.60    8.8   52.8   \n",
       "3  67.0  8.7  4.5  3.0  5.0  582.9  301.5  201.0  335.0  39.15   26.1   43.5   \n",
       "4  67.0  8.8  4.5  3.0  3.0  589.6  301.5  201.0  201.0  39.60   26.4   26.4   \n",
       "\n",
       "   x2 x3  x2 x4  x3 x4  \n",
       "0   17.1   11.4    6.0  \n",
       "1   17.1    5.7    3.0  \n",
       "2    4.5   27.0    6.0  \n",
       "3   13.5   22.5   15.0  \n",
       "4   13.5   13.5    9.0  "
      ]
     },
     "execution_count": 4,
     "metadata": {},
     "output_type": "execute_result"
    }
   ],
   "source": [
    "from sklearn.preprocessing import PolynomialFeatures\n",
    "pf=PolynomialFeatures(degree=2,include_bias=False, interaction_only=True)\n",
    "inp_pf=pf.fit_transform(inp)\n",
    "inp_pf=pd.DataFrame(inp_pf)\n",
    "inp_pf.columns=pf.get_feature_names()\n",
    "inp_pf.head()"
   ]
  },
  {
   "cell_type": "code",
   "execution_count": 218,
   "metadata": {},
   "outputs": [
    {
     "data": {
      "text/html": [
       "<table class=\"simpletable\">\n",
       "<caption>OLS Regression Results</caption>\n",
       "<tr>\n",
       "  <th>Dep. Variable:</th>          <td>Price</td>      <th>  R-squared:         </th> <td>   0.933</td>\n",
       "</tr>\n",
       "<tr>\n",
       "  <th>Model:</th>                   <td>OLS</td>       <th>  Adj. R-squared:    </th> <td>   0.886</td>\n",
       "</tr>\n",
       "<tr>\n",
       "  <th>Method:</th>             <td>Least Squares</td>  <th>  F-statistic:       </th> <td>   19.59</td>\n",
       "</tr>\n",
       "<tr>\n",
       "  <th>Date:</th>             <td>Fri, 22 May 2020</td> <th>  Prob (F-statistic):</th> <td>4.79e-09</td>\n",
       "</tr>\n",
       "<tr>\n",
       "  <th>Time:</th>                 <td>16:42:18</td>     <th>  Log-Likelihood:    </th> <td> -184.69</td>\n",
       "</tr>\n",
       "<tr>\n",
       "  <th>No. Observations:</th>      <td>    37</td>      <th>  AIC:               </th> <td>   401.4</td>\n",
       "</tr>\n",
       "<tr>\n",
       "  <th>Df Residuals:</th>          <td>    21</td>      <th>  BIC:               </th> <td>   427.2</td>\n",
       "</tr>\n",
       "<tr>\n",
       "  <th>Df Model:</th>              <td>    15</td>      <th>                     </th>     <td> </td>   \n",
       "</tr>\n",
       "<tr>\n",
       "  <th>Covariance Type:</th>      <td>nonrobust</td>    <th>                     </th>     <td> </td>   \n",
       "</tr>\n",
       "</table>\n",
       "<table class=\"simpletable\">\n",
       "<tr>\n",
       "    <td></td>       <th>coef</th>     <th>std err</th>      <th>t</th>      <th>P>|t|</th>  <th>[0.025</th>    <th>0.975]</th>  \n",
       "</tr>\n",
       "<tr>\n",
       "  <th>const</th> <td>  910.9404</td> <td> 4647.410</td> <td>    0.196</td> <td> 0.846</td> <td>-8753.878</td> <td> 1.06e+04</td>\n",
       "</tr>\n",
       "<tr>\n",
       "  <th>x0</th>    <td>  -76.8323</td> <td>   83.476</td> <td>   -0.920</td> <td> 0.368</td> <td> -250.430</td> <td>   96.766</td>\n",
       "</tr>\n",
       "<tr>\n",
       "  <th>x1</th>    <td>  146.7113</td> <td>  318.373</td> <td>    0.461</td> <td> 0.650</td> <td> -515.381</td> <td>  808.803</td>\n",
       "</tr>\n",
       "<tr>\n",
       "  <th>x2</th>    <td>  672.5773</td> <td>  782.532</td> <td>    0.859</td> <td> 0.400</td> <td> -954.787</td> <td> 2299.941</td>\n",
       "</tr>\n",
       "<tr>\n",
       "  <th>x3</th>    <td>   -8.3552</td> <td>  502.623</td> <td>   -0.017</td> <td> 0.987</td> <td>-1053.617</td> <td> 1036.906</td>\n",
       "</tr>\n",
       "<tr>\n",
       "  <th>x4</th>    <td>  193.4598</td> <td>  341.114</td> <td>    0.567</td> <td> 0.577</td> <td> -515.925</td> <td>  902.845</td>\n",
       "</tr>\n",
       "<tr>\n",
       "  <th>x0 x1</th> <td>    4.9653</td> <td>    6.902</td> <td>    0.719</td> <td> 0.480</td> <td>   -9.389</td> <td>   19.319</td>\n",
       "</tr>\n",
       "<tr>\n",
       "  <th>x0 x2</th> <td>    4.6591</td> <td>    5.725</td> <td>    0.814</td> <td> 0.425</td> <td>   -7.246</td> <td>   16.564</td>\n",
       "</tr>\n",
       "<tr>\n",
       "  <th>x0 x3</th> <td>    0.7662</td> <td>    2.475</td> <td>    0.310</td> <td> 0.760</td> <td>   -4.381</td> <td>    5.913</td>\n",
       "</tr>\n",
       "<tr>\n",
       "  <th>x0 x4</th> <td>    0.0734</td> <td>    2.724</td> <td>    0.027</td> <td> 0.979</td> <td>   -5.591</td> <td>    5.738</td>\n",
       "</tr>\n",
       "<tr>\n",
       "  <th>x1 x2</th> <td> -102.9255</td> <td>   66.987</td> <td>   -1.536</td> <td> 0.139</td> <td> -242.234</td> <td>   36.383</td>\n",
       "</tr>\n",
       "<tr>\n",
       "  <th>x1 x3</th> <td>   13.5643</td> <td>   29.358</td> <td>    0.462</td> <td> 0.649</td> <td>  -47.490</td> <td>   74.618</td>\n",
       "</tr>\n",
       "<tr>\n",
       "  <th>x1 x4</th> <td>  -12.3952</td> <td>   20.092</td> <td>   -0.617</td> <td> 0.544</td> <td>  -54.179</td> <td>   29.389</td>\n",
       "</tr>\n",
       "<tr>\n",
       "  <th>x2 x3</th> <td>  -21.2813</td> <td>   59.410</td> <td>   -0.358</td> <td> 0.724</td> <td> -144.831</td> <td>  102.269</td>\n",
       "</tr>\n",
       "<tr>\n",
       "  <th>x2 x4</th> <td>  -13.1377</td> <td>   42.041</td> <td>   -0.313</td> <td> 0.758</td> <td> -100.566</td> <td>   74.290</td>\n",
       "</tr>\n",
       "<tr>\n",
       "  <th>x3 x4</th> <td>   -6.6587</td> <td>    8.139</td> <td>   -0.818</td> <td> 0.422</td> <td>  -23.585</td> <td>   10.267</td>\n",
       "</tr>\n",
       "</table>\n",
       "<table class=\"simpletable\">\n",
       "<tr>\n",
       "  <th>Omnibus:</th>       <td> 3.240</td> <th>  Durbin-Watson:     </th> <td>   2.262</td>\n",
       "</tr>\n",
       "<tr>\n",
       "  <th>Prob(Omnibus):</th> <td> 0.198</td> <th>  Jarque-Bera (JB):  </th> <td>   2.129</td>\n",
       "</tr>\n",
       "<tr>\n",
       "  <th>Skew:</th>          <td> 0.295</td> <th>  Prob(JB):          </th> <td>   0.345</td>\n",
       "</tr>\n",
       "<tr>\n",
       "  <th>Kurtosis:</th>      <td> 4.016</td> <th>  Cond. No.          </th> <td>4.62e+05</td>\n",
       "</tr>\n",
       "</table><br/><br/>Warnings:<br/>[1] Standard Errors assume that the covariance matrix of the errors is correctly specified.<br/>[2] The condition number is large, 4.62e+05. This might indicate that there are<br/>strong multicollinearity or other numerical problems."
      ],
      "text/plain": [
       "<class 'statsmodels.iolib.summary.Summary'>\n",
       "\"\"\"\n",
       "                            OLS Regression Results                            \n",
       "==============================================================================\n",
       "Dep. Variable:                  Price   R-squared:                       0.933\n",
       "Model:                            OLS   Adj. R-squared:                  0.886\n",
       "Method:                 Least Squares   F-statistic:                     19.59\n",
       "Date:                Fri, 22 May 2020   Prob (F-statistic):           4.79e-09\n",
       "Time:                        16:42:18   Log-Likelihood:                -184.69\n",
       "No. Observations:                  37   AIC:                             401.4\n",
       "Df Residuals:                      21   BIC:                             427.2\n",
       "Df Model:                          15                                         \n",
       "Covariance Type:            nonrobust                                         \n",
       "==============================================================================\n",
       "                 coef    std err          t      P>|t|      [0.025      0.975]\n",
       "------------------------------------------------------------------------------\n",
       "const        910.9404   4647.410      0.196      0.846   -8753.878    1.06e+04\n",
       "x0           -76.8323     83.476     -0.920      0.368    -250.430      96.766\n",
       "x1           146.7113    318.373      0.461      0.650    -515.381     808.803\n",
       "x2           672.5773    782.532      0.859      0.400    -954.787    2299.941\n",
       "x3            -8.3552    502.623     -0.017      0.987   -1053.617    1036.906\n",
       "x4           193.4598    341.114      0.567      0.577    -515.925     902.845\n",
       "x0 x1          4.9653      6.902      0.719      0.480      -9.389      19.319\n",
       "x0 x2          4.6591      5.725      0.814      0.425      -7.246      16.564\n",
       "x0 x3          0.7662      2.475      0.310      0.760      -4.381       5.913\n",
       "x0 x4          0.0734      2.724      0.027      0.979      -5.591       5.738\n",
       "x1 x2       -102.9255     66.987     -1.536      0.139    -242.234      36.383\n",
       "x1 x3         13.5643     29.358      0.462      0.649     -47.490      74.618\n",
       "x1 x4        -12.3952     20.092     -0.617      0.544     -54.179      29.389\n",
       "x2 x3        -21.2813     59.410     -0.358      0.724    -144.831     102.269\n",
       "x2 x4        -13.1377     42.041     -0.313      0.758    -100.566      74.290\n",
       "x3 x4         -6.6587      8.139     -0.818      0.422     -23.585      10.267\n",
       "==============================================================================\n",
       "Omnibus:                        3.240   Durbin-Watson:                   2.262\n",
       "Prob(Omnibus):                  0.198   Jarque-Bera (JB):                2.129\n",
       "Skew:                           0.295   Prob(JB):                        0.345\n",
       "Kurtosis:                       4.016   Cond. No.                     4.62e+05\n",
       "==============================================================================\n",
       "\n",
       "Warnings:\n",
       "[1] Standard Errors assume that the covariance matrix of the errors is correctly specified.\n",
       "[2] The condition number is large, 4.62e+05. This might indicate that there are\n",
       "strong multicollinearity or other numerical problems.\n",
       "\"\"\""
      ]
     },
     "execution_count": 218,
     "metadata": {},
     "output_type": "execute_result"
    }
   ],
   "source": [
    "inp_c=sm.add_constant(inp_pf)\n",
    "ols_pf=sm.OLS(out,inp_c)\n",
    "mod_pf=ols_pf.fit()\n",
    "mod_pf.summary()"
   ]
  },
  {
   "cell_type": "code",
   "execution_count": 219,
   "metadata": {},
   "outputs": [
    {
     "name": "stdout",
     "output_type": "stream",
     "text": [
      "The final features trough backward eliminations are : Index(['x0', 'x1', 'x2', 'x4', 'x1 x2', 'x1 x3', 'x2 x3'], dtype='object')\n"
     ]
    }
   ],
   "source": [
    "while(len(inp_pf.columns)>0):\n",
    "    inp_c=sm.add_constant(inp_pf)\n",
    "    ols_pf=sm.OLS(out,inp_c)\n",
    "    mod_pf=ols_pf.fit()\n",
    "    f=mod_pf.pvalues[1:].idxmax()\n",
    "    if mod_pf.pvalues[1:].max()>0.05:\n",
    "        inp_pf=inp_pf.drop(f,1)\n",
    "    else:\n",
    "        break\n",
    "print('The final features trough backward eliminations are :',inp_pf.columns)\n"
   ]
  },
  {
   "cell_type": "code",
   "execution_count": null,
   "metadata": {},
   "outputs": [],
   "source": [
    "Age, salary, Exp ---- Pc1, pc2, pc3"
   ]
  },
  {
   "cell_type": "code",
   "execution_count": 220,
   "metadata": {},
   "outputs": [
    {
     "data": {
      "text/html": [
       "<table class=\"simpletable\">\n",
       "<caption>OLS Regression Results</caption>\n",
       "<tr>\n",
       "  <th>Dep. Variable:</th>          <td>Price</td>      <th>  R-squared:         </th> <td>   0.918</td>\n",
       "</tr>\n",
       "<tr>\n",
       "  <th>Model:</th>                   <td>OLS</td>       <th>  Adj. R-squared:    </th> <td>   0.899</td>\n",
       "</tr>\n",
       "<tr>\n",
       "  <th>Method:</th>             <td>Least Squares</td>  <th>  F-statistic:       </th> <td>   46.58</td>\n",
       "</tr>\n",
       "<tr>\n",
       "  <th>Date:</th>             <td>Fri, 22 May 2020</td> <th>  Prob (F-statistic):</th> <td>4.41e-14</td>\n",
       "</tr>\n",
       "<tr>\n",
       "  <th>Time:</th>                 <td>16:42:19</td>     <th>  Log-Likelihood:    </th> <td> -188.44</td>\n",
       "</tr>\n",
       "<tr>\n",
       "  <th>No. Observations:</th>      <td>    37</td>      <th>  AIC:               </th> <td>   392.9</td>\n",
       "</tr>\n",
       "<tr>\n",
       "  <th>Df Residuals:</th>          <td>    29</td>      <th>  BIC:               </th> <td>   405.8</td>\n",
       "</tr>\n",
       "<tr>\n",
       "  <th>Df Model:</th>              <td>     7</td>      <th>                     </th>     <td> </td>   \n",
       "</tr>\n",
       "<tr>\n",
       "  <th>Covariance Type:</th>      <td>nonrobust</td>    <th>                     </th>     <td> </td>   \n",
       "</tr>\n",
       "</table>\n",
       "<table class=\"simpletable\">\n",
       "<tr>\n",
       "    <td></td>       <th>coef</th>     <th>std err</th>      <th>t</th>      <th>P>|t|</th>  <th>[0.025</th>    <th>0.975]</th>  \n",
       "</tr>\n",
       "<tr>\n",
       "  <th>const</th> <td>-2763.2794</td> <td>  456.887</td> <td>   -6.048</td> <td> 0.000</td> <td>-3697.719</td> <td>-1828.840</td>\n",
       "</tr>\n",
       "<tr>\n",
       "  <th>x0</th>    <td>   -6.5530</td> <td>    1.739</td> <td>   -3.768</td> <td> 0.001</td> <td>  -10.110</td> <td>   -2.996</td>\n",
       "</tr>\n",
       "<tr>\n",
       "  <th>x1</th>    <td>  382.2552</td> <td>   65.358</td> <td>    5.849</td> <td> 0.000</td> <td>  248.582</td> <td>  515.928</td>\n",
       "</tr>\n",
       "<tr>\n",
       "  <th>x2</th>    <td>  860.5576</td> <td>  128.594</td> <td>    6.692</td> <td> 0.000</td> <td>  597.554</td> <td> 1123.561</td>\n",
       "</tr>\n",
       "<tr>\n",
       "  <th>x4</th>    <td>   17.6792</td> <td>    4.186</td> <td>    4.223</td> <td> 0.000</td> <td>    9.117</td> <td>   26.241</td>\n",
       "</tr>\n",
       "<tr>\n",
       "  <th>x1 x2</th> <td>  -91.6221</td> <td>   17.610</td> <td>   -5.203</td> <td> 0.000</td> <td> -127.639</td> <td>  -55.605</td>\n",
       "</tr>\n",
       "<tr>\n",
       "  <th>x1 x3</th> <td>   17.4854</td> <td>    3.503</td> <td>    4.992</td> <td> 0.000</td> <td>   10.322</td> <td>   24.649</td>\n",
       "</tr>\n",
       "<tr>\n",
       "  <th>x2 x3</th> <td>  -26.4568</td> <td>    6.111</td> <td>   -4.329</td> <td> 0.000</td> <td>  -38.956</td> <td>  -13.958</td>\n",
       "</tr>\n",
       "</table>\n",
       "<table class=\"simpletable\">\n",
       "<tr>\n",
       "  <th>Omnibus:</th>       <td> 1.171</td> <th>  Durbin-Watson:     </th> <td>   2.101</td>\n",
       "</tr>\n",
       "<tr>\n",
       "  <th>Prob(Omnibus):</th> <td> 0.557</td> <th>  Jarque-Bera (JB):  </th> <td>   0.356</td>\n",
       "</tr>\n",
       "<tr>\n",
       "  <th>Skew:</th>          <td> 0.033</td> <th>  Prob(JB):          </th> <td>   0.837</td>\n",
       "</tr>\n",
       "<tr>\n",
       "  <th>Kurtosis:</th>      <td> 3.476</td> <th>  Cond. No.          </th> <td>5.64e+03</td>\n",
       "</tr>\n",
       "</table><br/><br/>Warnings:<br/>[1] Standard Errors assume that the covariance matrix of the errors is correctly specified.<br/>[2] The condition number is large, 5.64e+03. This might indicate that there are<br/>strong multicollinearity or other numerical problems."
      ],
      "text/plain": [
       "<class 'statsmodels.iolib.summary.Summary'>\n",
       "\"\"\"\n",
       "                            OLS Regression Results                            \n",
       "==============================================================================\n",
       "Dep. Variable:                  Price   R-squared:                       0.918\n",
       "Model:                            OLS   Adj. R-squared:                  0.899\n",
       "Method:                 Least Squares   F-statistic:                     46.58\n",
       "Date:                Fri, 22 May 2020   Prob (F-statistic):           4.41e-14\n",
       "Time:                        16:42:19   Log-Likelihood:                -188.44\n",
       "No. Observations:                  37   AIC:                             392.9\n",
       "Df Residuals:                      29   BIC:                             405.8\n",
       "Df Model:                           7                                         \n",
       "Covariance Type:            nonrobust                                         \n",
       "==============================================================================\n",
       "                 coef    std err          t      P>|t|      [0.025      0.975]\n",
       "------------------------------------------------------------------------------\n",
       "const      -2763.2794    456.887     -6.048      0.000   -3697.719   -1828.840\n",
       "x0            -6.5530      1.739     -3.768      0.001     -10.110      -2.996\n",
       "x1           382.2552     65.358      5.849      0.000     248.582     515.928\n",
       "x2           860.5576    128.594      6.692      0.000     597.554    1123.561\n",
       "x4            17.6792      4.186      4.223      0.000       9.117      26.241\n",
       "x1 x2        -91.6221     17.610     -5.203      0.000    -127.639     -55.605\n",
       "x1 x3         17.4854      3.503      4.992      0.000      10.322      24.649\n",
       "x2 x3        -26.4568      6.111     -4.329      0.000     -38.956     -13.958\n",
       "==============================================================================\n",
       "Omnibus:                        1.171   Durbin-Watson:                   2.101\n",
       "Prob(Omnibus):                  0.557   Jarque-Bera (JB):                0.356\n",
       "Skew:                           0.033   Prob(JB):                        0.837\n",
       "Kurtosis:                       3.476   Cond. No.                     5.64e+03\n",
       "==============================================================================\n",
       "\n",
       "Warnings:\n",
       "[1] Standard Errors assume that the covariance matrix of the errors is correctly specified.\n",
       "[2] The condition number is large, 5.64e+03. This might indicate that there are\n",
       "strong multicollinearity or other numerical problems.\n",
       "\"\"\""
      ]
     },
     "execution_count": 220,
     "metadata": {},
     "output_type": "execute_result"
    }
   ],
   "source": [
    "mod_pf.summary()"
   ]
  },
  {
   "cell_type": "code",
   "execution_count": 221,
   "metadata": {},
   "outputs": [
    {
     "data": {
      "text/html": [
       "<div>\n",
       "<style scoped>\n",
       "    .dataframe tbody tr th:only-of-type {\n",
       "        vertical-align: middle;\n",
       "    }\n",
       "\n",
       "    .dataframe tbody tr th {\n",
       "        vertical-align: top;\n",
       "    }\n",
       "\n",
       "    .dataframe thead th {\n",
       "        text-align: right;\n",
       "    }\n",
       "</style>\n",
       "<table border=\"1\" class=\"dataframe\">\n",
       "  <thead>\n",
       "    <tr style=\"text-align: right;\">\n",
       "      <th></th>\n",
       "      <th>x0</th>\n",
       "      <th>x1</th>\n",
       "      <th>x2</th>\n",
       "      <th>x3</th>\n",
       "      <th>x4</th>\n",
       "      <th>x0 x1</th>\n",
       "      <th>x0 x2</th>\n",
       "      <th>x0 x3</th>\n",
       "      <th>x0 x4</th>\n",
       "      <th>x1 x2</th>\n",
       "      <th>x1 x3</th>\n",
       "      <th>x1 x4</th>\n",
       "      <th>x2 x3</th>\n",
       "      <th>x2 x4</th>\n",
       "      <th>x3 x4</th>\n",
       "    </tr>\n",
       "  </thead>\n",
       "  <tbody>\n",
       "    <tr>\n",
       "      <th>0</th>\n",
       "      <td>75.0</td>\n",
       "      <td>7.1</td>\n",
       "      <td>5.7</td>\n",
       "      <td>3.0</td>\n",
       "      <td>2.0</td>\n",
       "      <td>532.5</td>\n",
       "      <td>427.5</td>\n",
       "      <td>225.0</td>\n",
       "      <td>150.0</td>\n",
       "      <td>40.47</td>\n",
       "      <td>21.3</td>\n",
       "      <td>14.2</td>\n",
       "      <td>17.1</td>\n",
       "      <td>11.4</td>\n",
       "      <td>6.0</td>\n",
       "    </tr>\n",
       "    <tr>\n",
       "      <th>1</th>\n",
       "      <td>75.0</td>\n",
       "      <td>7.2</td>\n",
       "      <td>5.7</td>\n",
       "      <td>3.0</td>\n",
       "      <td>1.0</td>\n",
       "      <td>540.0</td>\n",
       "      <td>427.5</td>\n",
       "      <td>225.0</td>\n",
       "      <td>75.0</td>\n",
       "      <td>41.04</td>\n",
       "      <td>21.6</td>\n",
       "      <td>7.2</td>\n",
       "      <td>17.1</td>\n",
       "      <td>5.7</td>\n",
       "      <td>3.0</td>\n",
       "    </tr>\n",
       "    <tr>\n",
       "      <th>2</th>\n",
       "      <td>67.0</td>\n",
       "      <td>8.8</td>\n",
       "      <td>4.5</td>\n",
       "      <td>1.0</td>\n",
       "      <td>6.0</td>\n",
       "      <td>589.6</td>\n",
       "      <td>301.5</td>\n",
       "      <td>67.0</td>\n",
       "      <td>402.0</td>\n",
       "      <td>39.60</td>\n",
       "      <td>8.8</td>\n",
       "      <td>52.8</td>\n",
       "      <td>4.5</td>\n",
       "      <td>27.0</td>\n",
       "      <td>6.0</td>\n",
       "    </tr>\n",
       "    <tr>\n",
       "      <th>3</th>\n",
       "      <td>67.0</td>\n",
       "      <td>8.7</td>\n",
       "      <td>4.5</td>\n",
       "      <td>3.0</td>\n",
       "      <td>5.0</td>\n",
       "      <td>582.9</td>\n",
       "      <td>301.5</td>\n",
       "      <td>201.0</td>\n",
       "      <td>335.0</td>\n",
       "      <td>39.15</td>\n",
       "      <td>26.1</td>\n",
       "      <td>43.5</td>\n",
       "      <td>13.5</td>\n",
       "      <td>22.5</td>\n",
       "      <td>15.0</td>\n",
       "    </tr>\n",
       "    <tr>\n",
       "      <th>4</th>\n",
       "      <td>67.0</td>\n",
       "      <td>8.8</td>\n",
       "      <td>4.5</td>\n",
       "      <td>3.0</td>\n",
       "      <td>3.0</td>\n",
       "      <td>589.6</td>\n",
       "      <td>301.5</td>\n",
       "      <td>201.0</td>\n",
       "      <td>201.0</td>\n",
       "      <td>39.60</td>\n",
       "      <td>26.4</td>\n",
       "      <td>26.4</td>\n",
       "      <td>13.5</td>\n",
       "      <td>13.5</td>\n",
       "      <td>9.0</td>\n",
       "    </tr>\n",
       "  </tbody>\n",
       "</table>\n",
       "</div>"
      ],
      "text/plain": [
       "     x0   x1   x2   x3   x4  x0 x1  x0 x2  x0 x3  x0 x4  x1 x2  x1 x3  x1 x4  \\\n",
       "0  75.0  7.1  5.7  3.0  2.0  532.5  427.5  225.0  150.0  40.47   21.3   14.2   \n",
       "1  75.0  7.2  5.7  3.0  1.0  540.0  427.5  225.0   75.0  41.04   21.6    7.2   \n",
       "2  67.0  8.8  4.5  1.0  6.0  589.6  301.5   67.0  402.0  39.60    8.8   52.8   \n",
       "3  67.0  8.7  4.5  3.0  5.0  582.9  301.5  201.0  335.0  39.15   26.1   43.5   \n",
       "4  67.0  8.8  4.5  3.0  3.0  589.6  301.5  201.0  201.0  39.60   26.4   26.4   \n",
       "\n",
       "   x2 x3  x2 x4  x3 x4  \n",
       "0   17.1   11.4    6.0  \n",
       "1   17.1    5.7    3.0  \n",
       "2    4.5   27.0    6.0  \n",
       "3   13.5   22.5   15.0  \n",
       "4   13.5   13.5    9.0  "
      ]
     },
     "execution_count": 221,
     "metadata": {},
     "output_type": "execute_result"
    }
   ],
   "source": [
    "from sklearn.preprocessing import PolynomialFeatures\n",
    "pf=PolynomialFeatures(degree=2,include_bias=False, interaction_only=True)\n",
    "inp_pf=pf.fit_transform(inp)\n",
    "inp_pf=pd.DataFrame(inp_pf)\n",
    "inp_pf.columns=pf.get_feature_names()\n",
    "inp_pf.head()"
   ]
  },
  {
   "cell_type": "code",
   "execution_count": 222,
   "metadata": {},
   "outputs": [
    {
     "name": "stdout",
     "output_type": "stream",
     "text": [
      "0.3166634039425932\n",
      "Index(['x0', 'x1'], dtype='object')\n",
      "0.5634653417946316\n",
      "Index(['x0', 'x1', 'x2'], dtype='object')\n",
      "0.6544399940891866\n",
      "Index(['x0', 'x1', 'x2', 'x3'], dtype='object')\n",
      "0.8117564194611091\n",
      "Index(['x0', 'x1', 'x2', 'x3', 'x4'], dtype='object')\n",
      "0.8193869073263456\n",
      "Index(['x0', 'x1', 'x2', 'x3', 'x4', 'x0 x1'], dtype='object')\n",
      "0.8290735975959335\n",
      "Index(['x0', 'x1', 'x2', 'x3', 'x4', 'x0 x1', 'x0 x4'], dtype='object')\n",
      "0.854413106883594\n",
      "Index(['x0', 'x1', 'x2', 'x3', 'x4', 'x0 x1', 'x0 x4', 'x1 x2'], dtype='object')\n",
      "0.89374192509741\n",
      "Index(['x0', 'x1', 'x2', 'x3', 'x4', 'x0 x1', 'x0 x4', 'x1 x2', 'x1 x3'], dtype='object')\n",
      "0.8943637449720767\n",
      "Index(['x0', 'x1', 'x2', 'x3', 'x4', 'x0 x1', 'x0 x4', 'x1 x2', 'x1 x3',\n",
      "       'x2 x3'],\n",
      "      dtype='object')\n",
      "0.8997442042155644\n",
      "Index(['x0', 'x1', 'x2', 'x3', 'x4', 'x0 x1', 'x0 x4', 'x1 x2', 'x1 x3',\n",
      "       'x2 x3', 'x3 x4'],\n",
      "      dtype='object')\n",
      "Index(['x0', 'x1', 'x2', 'x3', 'x4', 'x0 x1', 'x0 x4', 'x1 x2', 'x1 x3',\n",
      "       'x2 x3', 'x3 x4'],\n",
      "      dtype='object')\n"
     ]
    }
   ],
   "source": [
    "# forward feature selection using adjusted Rsquare\n",
    "\n",
    "inp=pd.DataFrame(inp_pf.iloc[:,0])\n",
    "inp_c=sm.add_constant(inp)\n",
    "ols=sm.OLS(out,inp_c)\n",
    "mod=ols.fit()\n",
    "r_adj=mod.rsquared_adj\n",
    "for i in inp_pf.columns[1:]:\n",
    "    inp[i]=inp_pf[i]\n",
    "    inp_c=sm.add_constant(inp)\n",
    "    ols=sm.OLS(out,inp_c)\n",
    "    mod=ols.fit()\n",
    "    if mod.rsquared_adj<=r_adj: \n",
    "        inp=inp.drop(i,1)\n",
    "    else:\n",
    "        r_adj=mod.rsquared_adj\n",
    "        print(r_adj)\n",
    "        print(inp.columns)\n",
    "print(inp.columns)"
   ]
  },
  {
   "cell_type": "code",
   "execution_count": 223,
   "metadata": {},
   "outputs": [
    {
     "data": {
      "text/plain": [
       "RFE(estimator=LinearRegression(copy_X=True, fit_intercept=True, n_jobs=None,\n",
       "                               normalize=False),\n",
       "    n_features_to_select=6, step=1, verbose=0)"
      ]
     },
     "execution_count": 223,
     "metadata": {},
     "output_type": "execute_result"
    }
   ],
   "source": [
    "from sklearn.feature_selection import RFE\n",
    "from sklearn.linear_model import LinearRegression\n",
    "lr=LinearRegression()\n",
    "rfe=RFE(lr,6)\n",
    "rfe.fit(inp_pf,out)"
   ]
  },
  {
   "cell_type": "code",
   "execution_count": 224,
   "metadata": {},
   "outputs": [
    {
     "data": {
      "text/html": [
       "<div>\n",
       "<style scoped>\n",
       "    .dataframe tbody tr th:only-of-type {\n",
       "        vertical-align: middle;\n",
       "    }\n",
       "\n",
       "    .dataframe tbody tr th {\n",
       "        vertical-align: top;\n",
       "    }\n",
       "\n",
       "    .dataframe thead th {\n",
       "        text-align: right;\n",
       "    }\n",
       "</style>\n",
       "<table border=\"1\" class=\"dataframe\">\n",
       "  <thead>\n",
       "    <tr style=\"text-align: right;\">\n",
       "      <th></th>\n",
       "      <th>RANK</th>\n",
       "      <th>Feature</th>\n",
       "    </tr>\n",
       "  </thead>\n",
       "  <tbody>\n",
       "    <tr>\n",
       "      <th>1</th>\n",
       "      <td>1</td>\n",
       "      <td>x1</td>\n",
       "    </tr>\n",
       "    <tr>\n",
       "      <th>2</th>\n",
       "      <td>1</td>\n",
       "      <td>x2</td>\n",
       "    </tr>\n",
       "    <tr>\n",
       "      <th>3</th>\n",
       "      <td>1</td>\n",
       "      <td>x3</td>\n",
       "    </tr>\n",
       "    <tr>\n",
       "      <th>4</th>\n",
       "      <td>1</td>\n",
       "      <td>x4</td>\n",
       "    </tr>\n",
       "    <tr>\n",
       "      <th>9</th>\n",
       "      <td>1</td>\n",
       "      <td>x1 x2</td>\n",
       "    </tr>\n",
       "    <tr>\n",
       "      <th>12</th>\n",
       "      <td>1</td>\n",
       "      <td>x2 x3</td>\n",
       "    </tr>\n",
       "    <tr>\n",
       "      <th>11</th>\n",
       "      <td>2</td>\n",
       "      <td>x1 x4</td>\n",
       "    </tr>\n",
       "    <tr>\n",
       "      <th>14</th>\n",
       "      <td>3</td>\n",
       "      <td>x3 x4</td>\n",
       "    </tr>\n",
       "    <tr>\n",
       "      <th>0</th>\n",
       "      <td>4</td>\n",
       "      <td>x0</td>\n",
       "    </tr>\n",
       "    <tr>\n",
       "      <th>13</th>\n",
       "      <td>5</td>\n",
       "      <td>x2 x4</td>\n",
       "    </tr>\n",
       "    <tr>\n",
       "      <th>10</th>\n",
       "      <td>6</td>\n",
       "      <td>x1 x3</td>\n",
       "    </tr>\n",
       "    <tr>\n",
       "      <th>6</th>\n",
       "      <td>7</td>\n",
       "      <td>x0 x2</td>\n",
       "    </tr>\n",
       "    <tr>\n",
       "      <th>5</th>\n",
       "      <td>8</td>\n",
       "      <td>x0 x1</td>\n",
       "    </tr>\n",
       "    <tr>\n",
       "      <th>7</th>\n",
       "      <td>9</td>\n",
       "      <td>x0 x3</td>\n",
       "    </tr>\n",
       "    <tr>\n",
       "      <th>8</th>\n",
       "      <td>10</td>\n",
       "      <td>x0 x4</td>\n",
       "    </tr>\n",
       "  </tbody>\n",
       "</table>\n",
       "</div>"
      ],
      "text/plain": [
       "    RANK Feature\n",
       "1      1      x1\n",
       "2      1      x2\n",
       "3      1      x3\n",
       "4      1      x4\n",
       "9      1   x1 x2\n",
       "12     1   x2 x3\n",
       "11     2   x1 x4\n",
       "14     3   x3 x4\n",
       "0      4      x0\n",
       "13     5   x2 x4\n",
       "10     6   x1 x3\n",
       "6      7   x0 x2\n",
       "5      8   x0 x1\n",
       "7      9   x0 x3\n",
       "8     10   x0 x4"
      ]
     },
     "execution_count": 224,
     "metadata": {},
     "output_type": "execute_result"
    }
   ],
   "source": [
    "Rank=pd.DataFrame()\n",
    "Rank['RANK']=rfe.ranking_\n",
    "Rank['Feature']=inp_pf.columns\n",
    "Rank.sort_values('RANK')"
   ]
  },
  {
   "cell_type": "code",
   "execution_count": 247,
   "metadata": {},
   "outputs": [
    {
     "data": {
      "text/plain": [
       "Index(['Region', 'Parcels', 'TruckAge'], dtype='object')"
      ]
     },
     "execution_count": 247,
     "metadata": {},
     "output_type": "execute_result"
    }
   ],
   "source": [
    "inp.columns"
   ]
  },
  {
   "cell_type": "code",
   "execution_count": 248,
   "metadata": {},
   "outputs": [],
   "source": [
    "data_ref=pd.read_excel('Refrigerators.xlsx')\n",
    "out=data_ref['Price']\n",
    "inp=data_ref.drop('Price',1)"
   ]
  },
  {
   "cell_type": "code",
   "execution_count": 249,
   "metadata": {},
   "outputs": [
    {
     "data": {
      "text/html": [
       "<div>\n",
       "<style scoped>\n",
       "    .dataframe tbody tr th:only-of-type {\n",
       "        vertical-align: middle;\n",
       "    }\n",
       "\n",
       "    .dataframe tbody tr th {\n",
       "        vertical-align: top;\n",
       "    }\n",
       "\n",
       "    .dataframe thead th {\n",
       "        text-align: right;\n",
       "    }\n",
       "</style>\n",
       "<table border=\"1\" class=\"dataframe\">\n",
       "  <thead>\n",
       "    <tr style=\"text-align: right;\">\n",
       "      <th></th>\n",
       "      <th>x0</th>\n",
       "      <th>x1</th>\n",
       "      <th>x2</th>\n",
       "      <th>x3</th>\n",
       "      <th>x4</th>\n",
       "      <th>x0 x1</th>\n",
       "      <th>x0 x2</th>\n",
       "      <th>x0 x3</th>\n",
       "      <th>x0 x4</th>\n",
       "      <th>x1 x2</th>\n",
       "      <th>x1 x3</th>\n",
       "      <th>x1 x4</th>\n",
       "      <th>x2 x3</th>\n",
       "      <th>x2 x4</th>\n",
       "      <th>x3 x4</th>\n",
       "    </tr>\n",
       "  </thead>\n",
       "  <tbody>\n",
       "    <tr>\n",
       "      <th>0</th>\n",
       "      <td>75.0</td>\n",
       "      <td>7.1</td>\n",
       "      <td>5.7</td>\n",
       "      <td>3.0</td>\n",
       "      <td>2.0</td>\n",
       "      <td>532.5</td>\n",
       "      <td>427.5</td>\n",
       "      <td>225.0</td>\n",
       "      <td>150.0</td>\n",
       "      <td>40.47</td>\n",
       "      <td>21.3</td>\n",
       "      <td>14.2</td>\n",
       "      <td>17.1</td>\n",
       "      <td>11.4</td>\n",
       "      <td>6.0</td>\n",
       "    </tr>\n",
       "    <tr>\n",
       "      <th>1</th>\n",
       "      <td>75.0</td>\n",
       "      <td>7.2</td>\n",
       "      <td>5.7</td>\n",
       "      <td>3.0</td>\n",
       "      <td>1.0</td>\n",
       "      <td>540.0</td>\n",
       "      <td>427.5</td>\n",
       "      <td>225.0</td>\n",
       "      <td>75.0</td>\n",
       "      <td>41.04</td>\n",
       "      <td>21.6</td>\n",
       "      <td>7.2</td>\n",
       "      <td>17.1</td>\n",
       "      <td>5.7</td>\n",
       "      <td>3.0</td>\n",
       "    </tr>\n",
       "    <tr>\n",
       "      <th>2</th>\n",
       "      <td>67.0</td>\n",
       "      <td>8.8</td>\n",
       "      <td>4.5</td>\n",
       "      <td>1.0</td>\n",
       "      <td>6.0</td>\n",
       "      <td>589.6</td>\n",
       "      <td>301.5</td>\n",
       "      <td>67.0</td>\n",
       "      <td>402.0</td>\n",
       "      <td>39.60</td>\n",
       "      <td>8.8</td>\n",
       "      <td>52.8</td>\n",
       "      <td>4.5</td>\n",
       "      <td>27.0</td>\n",
       "      <td>6.0</td>\n",
       "    </tr>\n",
       "    <tr>\n",
       "      <th>3</th>\n",
       "      <td>67.0</td>\n",
       "      <td>8.7</td>\n",
       "      <td>4.5</td>\n",
       "      <td>3.0</td>\n",
       "      <td>5.0</td>\n",
       "      <td>582.9</td>\n",
       "      <td>301.5</td>\n",
       "      <td>201.0</td>\n",
       "      <td>335.0</td>\n",
       "      <td>39.15</td>\n",
       "      <td>26.1</td>\n",
       "      <td>43.5</td>\n",
       "      <td>13.5</td>\n",
       "      <td>22.5</td>\n",
       "      <td>15.0</td>\n",
       "    </tr>\n",
       "    <tr>\n",
       "      <th>4</th>\n",
       "      <td>67.0</td>\n",
       "      <td>8.8</td>\n",
       "      <td>4.5</td>\n",
       "      <td>3.0</td>\n",
       "      <td>3.0</td>\n",
       "      <td>589.6</td>\n",
       "      <td>301.5</td>\n",
       "      <td>201.0</td>\n",
       "      <td>201.0</td>\n",
       "      <td>39.60</td>\n",
       "      <td>26.4</td>\n",
       "      <td>26.4</td>\n",
       "      <td>13.5</td>\n",
       "      <td>13.5</td>\n",
       "      <td>9.0</td>\n",
       "    </tr>\n",
       "  </tbody>\n",
       "</table>\n",
       "</div>"
      ],
      "text/plain": [
       "     x0   x1   x2   x3   x4  x0 x1  x0 x2  x0 x3  x0 x4  x1 x2  x1 x3  x1 x4  \\\n",
       "0  75.0  7.1  5.7  3.0  2.0  532.5  427.5  225.0  150.0  40.47   21.3   14.2   \n",
       "1  75.0  7.2  5.7  3.0  1.0  540.0  427.5  225.0   75.0  41.04   21.6    7.2   \n",
       "2  67.0  8.8  4.5  1.0  6.0  589.6  301.5   67.0  402.0  39.60    8.8   52.8   \n",
       "3  67.0  8.7  4.5  3.0  5.0  582.9  301.5  201.0  335.0  39.15   26.1   43.5   \n",
       "4  67.0  8.8  4.5  3.0  3.0  589.6  301.5  201.0  201.0  39.60   26.4   26.4   \n",
       "\n",
       "   x2 x3  x2 x4  x3 x4  \n",
       "0   17.1   11.4    6.0  \n",
       "1   17.1    5.7    3.0  \n",
       "2    4.5   27.0    6.0  \n",
       "3   13.5   22.5   15.0  \n",
       "4   13.5   13.5    9.0  "
      ]
     },
     "execution_count": 249,
     "metadata": {},
     "output_type": "execute_result"
    }
   ],
   "source": [
    "from sklearn.preprocessing import PolynomialFeatures\n",
    "pf=PolynomialFeatures(degree=2,include_bias=False, interaction_only=True)\n",
    "inp_pf=pf.fit_transform(inp)\n",
    "inp_pf=pd.DataFrame(inp_pf)\n",
    "inp_pf.columns=pf.get_feature_names()\n",
    "inp_pf.head()"
   ]
  },
  {
   "cell_type": "code",
   "execution_count": 250,
   "metadata": {},
   "outputs": [
    {
     "name": "stdout",
     "output_type": "stream",
     "text": [
      "549.6120843578111\n",
      "600.4486538816402\n"
     ]
    },
    {
     "data": {
      "text/plain": [
       "array([  -34315.18787388,    -4561.84418447, -1948959.05560288])"
      ]
     },
     "execution_count": 250,
     "metadata": {},
     "output_type": "execute_result"
    }
   ],
   "source": [
    "from sklearn.linear_model import LinearRegression\n",
    "from sklearn.model_selection import cross_val_score\n",
    "mod_lr=LinearRegression()\n",
    "res=cross_val_score(mod_lr,inp_pf,out,cv=3,scoring='neg_mean_squared_error')\n",
    "rmse=np.sqrt(np.abs(res))\n",
    "print(rmse.mean())\n",
    "print(rmse.std())\n",
    "res"
   ]
  },
  {
   "cell_type": "code",
   "execution_count": 251,
   "metadata": {},
   "outputs": [
    {
     "name": "stdout",
     "output_type": "stream",
     "text": [
      "83.51014241129319\n",
      "26.82433985880426\n"
     ]
    },
    {
     "data": {
      "text/plain": [
       "array([ -4137.30709989,  -4194.36218863, -14748.79799472])"
      ]
     },
     "execution_count": 251,
     "metadata": {},
     "output_type": "execute_result"
    }
   ],
   "source": [
    "from sklearn.linear_model import Ridge\n",
    "from sklearn.model_selection import cross_val_score\n",
    "mod_rid=Ridge(alpha=0.5,normalize=True)\n",
    "res=cross_val_score(mod_rid,inp_pf,out,cv=3,scoring='neg_mean_squared_error')\n",
    "rmse=np.sqrt(np.abs(res))\n",
    "print(rmse.mean())\n",
    "print(rmse.std())\n",
    "res"
   ]
  },
  {
   "cell_type": "code",
   "execution_count": 229,
   "metadata": {},
   "outputs": [
    {
     "name": "stdout",
     "output_type": "stream",
     "text": [
      "89.61752227160822\n",
      "38.86483817406868\n"
     ]
    },
    {
     "data": {
      "text/plain": [
       "array([ -3639.42795227,  -4094.04978184, -20891.85009909])"
      ]
     },
     "execution_count": 229,
     "metadata": {},
     "output_type": "execute_result"
    }
   ],
   "source": [
    "from sklearn.linear_model import Lasso\n",
    "from sklearn.model_selection import cross_val_score\n",
    "mod_las=Lasso(alpha=0.5,normalize=True)\n",
    "res=cross_val_score(mod_las,inp_pf,out,cv=3,scoring='neg_mean_squared_error')\n",
    "rmse=np.sqrt(np.abs(res))\n",
    "print(rmse.mean())\n",
    "print(rmse.std())\n",
    "res"
   ]
  },
  {
   "cell_type": "code",
   "execution_count": 270,
   "metadata": {},
   "outputs": [
    {
     "data": {
      "text/plain": [
       "<matplotlib.axes._subplots.AxesSubplot at 0x25250ef20c8>"
      ]
     },
     "execution_count": 270,
     "metadata": {},
     "output_type": "execute_result"
    },
    {
     "data": {
      "image/png": "[encoded data removed]",
      "text/plain": [
       "<Figure size 432x288 with 1 Axes>"
      ]
     },
     "metadata": {
      "needs_background": "light"
     },
     "output_type": "display_data"
    }
   ],
   "source": [
    "from sklearn.linear_model import LinearRegression\n",
    "from sklearn.model_selection import cross_val_score\n",
    "mod_lr=LinearRegression()\n",
    "mod_lr.fit(inp_pf,out)\n",
    "#res=cross_val_score(mod_las,inp,out,cv=3,scoring='neg_mean_squared_error')\n",
    "coef=pd.DataFrame(mod_lr.coef_)\n",
    "coef.index=inp_pf.columns\n",
    "coef.plot(kind='bar')\n"
   ]
  },
  {
   "cell_type": "code",
   "execution_count": 271,
   "metadata": {},
   "outputs": [
    {
     "data": {
      "text/plain": [
       "<matplotlib.axes._subplots.AxesSubplot at 0x25250f5abc8>"
      ]
     },
     "execution_count": 271,
     "metadata": {},
     "output_type": "execute_result"
    },
    {
     "data": {
      "image/png": "[encoded data removed]",
      "text/plain": [
       "<Figure size 432x288 with 1 Axes>"
      ]
     },
     "metadata": {
      "needs_background": "light"
     },
     "output_type": "display_data"
    }
   ],
   "source": [
    "from sklearn.linear_model import Ridge\n",
    "from sklearn.model_selection import cross_val_score\n",
    "mod_rid=Ridge(alpha=0.5,normalize=True)\n",
    "mod_rid.fit(inp_pf,out)\n",
    "#res=cross_val_score(mod_las,inp,out,cv=3,scoring='neg_mean_squared_error')\n",
    "mod_rid.coef_\n",
    "coef=pd.DataFrame(mod_rid.coef_)\n",
    "coef.index=inp_pf.columns\n",
    "coef.plot(kind='bar')"
   ]
  },
  {
   "cell_type": "code",
   "execution_count": 272,
   "metadata": {},
   "outputs": [
    {
     "data": {
      "text/plain": [
       "<matplotlib.axes._subplots.AxesSubplot at 0x25251fb4908>"
      ]
     },
     "execution_count": 272,
     "metadata": {},
     "output_type": "execute_result"
    },
    {
     "data": {
      "image/png": "[encoded data removed]",
      "text/plain": [
       "<Figure size 432x288 with 1 Axes>"
      ]
     },
     "metadata": {
      "needs_background": "light"
     },
     "output_type": "display_data"
    }
   ],
   "source": [
    "from sklearn.linear_model import Lasso\n",
    "from sklearn.model_selection import cross_val_score\n",
    "mod_las=Lasso(alpha=0.5,normalize=True)\n",
    "mod_las.fit(inp_pf,out)\n",
    "#res=cross_val_score(mod_las,inp,out,cv=3,scoring='neg_mean_squared_error')\n",
    "mod_las.coef_\n",
    "coef=pd.DataFrame(mod_las.coef_)\n",
    "coef.index=inp_pf.columns\n",
    "coef.plot(kind='bar')"
   ]
  },
  {
   "cell_type": "code",
   "execution_count": 260,
   "metadata": {},
   "outputs": [
    {
     "data": {
      "text/plain": [
       "0.1"
      ]
     },
     "execution_count": 260,
     "metadata": {},
     "output_type": "execute_result"
    }
   ],
   "source": [
    "from sklearn.linear_model import RidgeCV\n",
    "rid_cv = RidgeCV(alphas=[0.1, 1.0, 10.0],normalize=True)\n",
    "rid_cv.fit(inp_pf, out)\n",
    "rid_cv.alpha_"
   ]
  },
  {
   "cell_type": "code",
   "execution_count": 7,
   "metadata": {},
   "outputs": [
    {
     "data": {
      "text/html": [
       "<div>\n",
       "<style scoped>\n",
       "    .dataframe tbody tr th:only-of-type {\n",
       "        vertical-align: middle;\n",
       "    }\n",
       "\n",
       "    .dataframe tbody tr th {\n",
       "        vertical-align: top;\n",
       "    }\n",
       "\n",
       "    .dataframe thead th {\n",
       "        text-align: right;\n",
       "    }\n",
       "</style>\n",
       "<table border=\"1\" class=\"dataframe\">\n",
       "  <thead>\n",
       "    <tr style=\"text-align: right;\">\n",
       "      <th></th>\n",
       "      <th>Trip</th>\n",
       "      <th>Region</th>\n",
       "      <th>Parcels</th>\n",
       "      <th>TruckAge</th>\n",
       "      <th>Minutes</th>\n",
       "    </tr>\n",
       "  </thead>\n",
       "  <tbody>\n",
       "    <tr>\n",
       "      <th>0</th>\n",
       "      <td>1</td>\n",
       "      <td>B</td>\n",
       "      <td>46</td>\n",
       "      <td>11</td>\n",
       "      <td>461.9</td>\n",
       "    </tr>\n",
       "    <tr>\n",
       "      <th>1</th>\n",
       "      <td>2</td>\n",
       "      <td>B</td>\n",
       "      <td>32</td>\n",
       "      <td>1</td>\n",
       "      <td>273.1</td>\n",
       "    </tr>\n",
       "    <tr>\n",
       "      <th>2</th>\n",
       "      <td>3</td>\n",
       "      <td>C</td>\n",
       "      <td>42</td>\n",
       "      <td>14</td>\n",
       "      <td>489.4</td>\n",
       "    </tr>\n",
       "    <tr>\n",
       "      <th>3</th>\n",
       "      <td>4</td>\n",
       "      <td>B</td>\n",
       "      <td>30</td>\n",
       "      <td>13</td>\n",
       "      <td>303.0</td>\n",
       "    </tr>\n",
       "    <tr>\n",
       "      <th>4</th>\n",
       "      <td>5</td>\n",
       "      <td>B</td>\n",
       "      <td>36</td>\n",
       "      <td>15</td>\n",
       "      <td>367.7</td>\n",
       "    </tr>\n",
       "  </tbody>\n",
       "</table>\n",
       "</div>"
      ],
      "text/plain": [
       "   Trip Region  Parcels  TruckAge  Minutes\n",
       "0     1      B       46        11    461.9\n",
       "1     2      B       32         1    273.1\n",
       "2     3      C       42        14    489.4\n",
       "3     4      B       30        13    303.0\n",
       "4     5      B       36        15    367.7"
      ]
     },
     "execution_count": 7,
     "metadata": {},
     "output_type": "execute_result"
    }
   ],
   "source": [
    "import pandas as pd\n",
    "data=pd.read_excel('delivery.xlsx')\n",
    "\n",
    "data.head()"
   ]
  },
  {
   "cell_type": "code",
   "execution_count": 8,
   "metadata": {},
   "outputs": [
    {
     "data": {
      "text/plain": [
       "C    17\n",
       "B    16\n",
       "A    14\n",
       "Name: Region, dtype: int64"
      ]
     },
     "execution_count": 8,
     "metadata": {},
     "output_type": "execute_result"
    }
   ],
   "source": [
    "data['Region'].value_counts()"
   ]
  },
  {
   "cell_type": "code",
   "execution_count": 235,
   "metadata": {},
   "outputs": [],
   "source": [
    "data=data.drop('Trip',1)"
   ]
  },
  {
   "cell_type": "code",
   "execution_count": 236,
   "metadata": {},
   "outputs": [
    {
     "data": {
      "text/plain": [
       "Index(['Region', 'Parcels', 'TruckAge', 'Minutes'], dtype='object')"
      ]
     },
     "execution_count": 236,
     "metadata": {},
     "output_type": "execute_result"
    }
   ],
   "source": [
    "data.columns"
   ]
  },
  {
   "cell_type": "code",
   "execution_count": 237,
   "metadata": {},
   "outputs": [],
   "source": [
    "out=data['Minutes']\n",
    "inp=data.drop('Minutes',1)"
   ]
  },
  {
   "cell_type": "code",
   "execution_count": 238,
   "metadata": {},
   "outputs": [
    {
     "data": {
      "text/html": [
       "<div>\n",
       "<style scoped>\n",
       "    .dataframe tbody tr th:only-of-type {\n",
       "        vertical-align: middle;\n",
       "    }\n",
       "\n",
       "    .dataframe tbody tr th {\n",
       "        vertical-align: top;\n",
       "    }\n",
       "\n",
       "    .dataframe thead th {\n",
       "        text-align: right;\n",
       "    }\n",
       "</style>\n",
       "<table border=\"1\" class=\"dataframe\">\n",
       "  <thead>\n",
       "    <tr style=\"text-align: right;\">\n",
       "      <th></th>\n",
       "      <th>Parcels</th>\n",
       "      <th>TruckAge</th>\n",
       "      <th>Region_B</th>\n",
       "      <th>Region_C</th>\n",
       "    </tr>\n",
       "  </thead>\n",
       "  <tbody>\n",
       "    <tr>\n",
       "      <th>0</th>\n",
       "      <td>46</td>\n",
       "      <td>11</td>\n",
       "      <td>1</td>\n",
       "      <td>0</td>\n",
       "    </tr>\n",
       "    <tr>\n",
       "      <th>1</th>\n",
       "      <td>32</td>\n",
       "      <td>1</td>\n",
       "      <td>1</td>\n",
       "      <td>0</td>\n",
       "    </tr>\n",
       "  </tbody>\n",
       "</table>\n",
       "</div>"
      ],
      "text/plain": [
       "   Parcels  TruckAge  Region_B  Region_C\n",
       "0       46        11         1         0\n",
       "1       32         1         1         0"
      ]
     },
     "execution_count": 238,
     "metadata": {},
     "output_type": "execute_result"
    }
   ],
   "source": [
    "inp_dum=pd.get_dummies(inp,drop_first=True)\n",
    "inp_dum.head(2)"
   ]
  },
  {
   "cell_type": "code",
   "execution_count": 239,
   "metadata": {},
   "outputs": [
    {
     "data": {
      "text/html": [
       "<table class=\"simpletable\">\n",
       "<caption>OLS Regression Results</caption>\n",
       "<tr>\n",
       "  <th>Dep. Variable:</th>         <td>Minutes</td>     <th>  R-squared:         </th> <td>   0.951</td>\n",
       "</tr>\n",
       "<tr>\n",
       "  <th>Model:</th>                   <td>OLS</td>       <th>  Adj. R-squared:    </th> <td>   0.947</td>\n",
       "</tr>\n",
       "<tr>\n",
       "  <th>Method:</th>             <td>Least Squares</td>  <th>  F-statistic:       </th> <td>   205.2</td>\n",
       "</tr>\n",
       "<tr>\n",
       "  <th>Date:</th>             <td>Fri, 22 May 2020</td> <th>  Prob (F-statistic):</th> <td>5.68e-27</td>\n",
       "</tr>\n",
       "<tr>\n",
       "  <th>Time:</th>                 <td>16:42:38</td>     <th>  Log-Likelihood:    </th> <td> -209.96</td>\n",
       "</tr>\n",
       "<tr>\n",
       "  <th>No. Observations:</th>      <td>    47</td>      <th>  AIC:               </th> <td>   429.9</td>\n",
       "</tr>\n",
       "<tr>\n",
       "  <th>Df Residuals:</th>          <td>    42</td>      <th>  BIC:               </th> <td>   439.2</td>\n",
       "</tr>\n",
       "<tr>\n",
       "  <th>Df Model:</th>              <td>     4</td>      <th>                     </th>     <td> </td>   \n",
       "</tr>\n",
       "<tr>\n",
       "  <th>Covariance Type:</th>      <td>nonrobust</td>    <th>                     </th>     <td> </td>   \n",
       "</tr>\n",
       "</table>\n",
       "<table class=\"simpletable\">\n",
       "<tr>\n",
       "      <td></td>        <th>coef</th>     <th>std err</th>      <th>t</th>      <th>P>|t|</th>  <th>[0.025</th>    <th>0.975]</th>  \n",
       "</tr>\n",
       "<tr>\n",
       "  <th>const</th>    <td>   72.9558</td> <td>   17.852</td> <td>    4.087</td> <td> 0.000</td> <td>   36.929</td> <td>  108.982</td>\n",
       "</tr>\n",
       "<tr>\n",
       "  <th>Parcels</th>  <td>    9.9249</td> <td>    0.402</td> <td>   24.716</td> <td> 0.000</td> <td>    9.115</td> <td>   10.735</td>\n",
       "</tr>\n",
       "<tr>\n",
       "  <th>TruckAge</th> <td>    3.6838</td> <td>    0.759</td> <td>    4.851</td> <td> 0.000</td> <td>    2.151</td> <td>    5.216</td>\n",
       "</tr>\n",
       "<tr>\n",
       "  <th>Region_B</th> <td> -106.4985</td> <td>    8.173</td> <td>  -13.031</td> <td> 0.000</td> <td> -122.991</td> <td>  -90.006</td>\n",
       "</tr>\n",
       "<tr>\n",
       "  <th>Region_C</th> <td> -107.7127</td> <td>    8.079</td> <td>  -13.333</td> <td> 0.000</td> <td> -124.017</td> <td>  -91.409</td>\n",
       "</tr>\n",
       "</table>\n",
       "<table class=\"simpletable\">\n",
       "<tr>\n",
       "  <th>Omnibus:</th>       <td>44.045</td> <th>  Durbin-Watson:     </th> <td>   2.123</td>\n",
       "</tr>\n",
       "<tr>\n",
       "  <th>Prob(Omnibus):</th> <td> 0.000</td> <th>  Jarque-Bera (JB):  </th> <td> 170.117</td>\n",
       "</tr>\n",
       "<tr>\n",
       "  <th>Skew:</th>          <td> 2.420</td> <th>  Prob(JB):          </th> <td>1.15e-37</td>\n",
       "</tr>\n",
       "<tr>\n",
       "  <th>Kurtosis:</th>      <td>10.965</td> <th>  Cond. No.          </th> <td>    202.</td>\n",
       "</tr>\n",
       "</table><br/><br/>Warnings:<br/>[1] Standard Errors assume that the covariance matrix of the errors is correctly specified."
      ],
      "text/plain": [
       "<class 'statsmodels.iolib.summary.Summary'>\n",
       "\"\"\"\n",
       "                            OLS Regression Results                            \n",
       "==============================================================================\n",
       "Dep. Variable:                Minutes   R-squared:                       0.951\n",
       "Model:                            OLS   Adj. R-squared:                  0.947\n",
       "Method:                 Least Squares   F-statistic:                     205.2\n",
       "Date:                Fri, 22 May 2020   Prob (F-statistic):           5.68e-27\n",
       "Time:                        16:42:38   Log-Likelihood:                -209.96\n",
       "No. Observations:                  47   AIC:                             429.9\n",
       "Df Residuals:                      42   BIC:                             439.2\n",
       "Df Model:                           4                                         \n",
       "Covariance Type:            nonrobust                                         \n",
       "==============================================================================\n",
       "                 coef    std err          t      P>|t|      [0.025      0.975]\n",
       "------------------------------------------------------------------------------\n",
       "const         72.9558     17.852      4.087      0.000      36.929     108.982\n",
       "Parcels        9.9249      0.402     24.716      0.000       9.115      10.735\n",
       "TruckAge       3.6838      0.759      4.851      0.000       2.151       5.216\n",
       "Region_B    -106.4985      8.173    -13.031      0.000    -122.991     -90.006\n",
       "Region_C    -107.7127      8.079    -13.333      0.000    -124.017     -91.409\n",
       "==============================================================================\n",
       "Omnibus:                       44.045   Durbin-Watson:                   2.123\n",
       "Prob(Omnibus):                  0.000   Jarque-Bera (JB):              170.117\n",
       "Skew:                           2.420   Prob(JB):                     1.15e-37\n",
       "Kurtosis:                      10.965   Cond. No.                         202.\n",
       "==============================================================================\n",
       "\n",
       "Warnings:\n",
       "[1] Standard Errors assume that the covariance matrix of the errors is correctly specified.\n",
       "\"\"\""
      ]
     },
     "execution_count": 239,
     "metadata": {},
     "output_type": "execute_result"
    }
   ],
   "source": [
    "inp_c=sm.add_constant(inp_dum)\n",
    "ols=sm.OLS(out,inp_c)\n",
    "mod=ols.fit()\n",
    "mod.summary()"
   ]
  },
  {
   "cell_type": "code",
   "execution_count": null,
   "metadata": {},
   "outputs": [],
   "source": []
  },
  {
   "cell_type": "code",
   "execution_count": null,
   "metadata": {},
   "outputs": [],
   "source": []
  }
 ],
 "metadata": {
  "kernelspec": {
   "display_name": "Python 3",
   "language": "python",
   "name": "python3"
  },
  "language_info": {
   "codemirror_mode": {
    "name": "ipython",
    "version": 3
   },
   "file_extension": ".py",
   "mimetype": "text/x-python",
   "name": "python",
   "nbconvert_exporter": "python",
   "pygments_lexer": "ipython3",
   "version": "3.7.6"
  }
 },
 "nbformat": 4,
 "nbformat_minor": 4
}
